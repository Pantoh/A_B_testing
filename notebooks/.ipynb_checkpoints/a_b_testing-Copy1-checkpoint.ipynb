{
 "cells": [
  {
   "cell_type": "code",
   "execution_count": 71,
   "id": "4c1ce149-db7b-46eb-9d6b-140a9f1c28d6",
   "metadata": {},
   "outputs": [],
   "source": [
    "import pandas as pd\n",
    "import matplotlib.pyplot as plt\n",
    "import seaborn as sns\n",
    "import numpy as np\n",
    "from scipy.stats import norm\n",
    "\n",
    "%matplotlib inline"
   ]
  },
  {
   "cell_type": "code",
   "execution_count": 72,
   "id": "4670a3d7-30d9-415f-9e61-5cc8c5888aa4",
   "metadata": {
    "scrolled": true
   },
   "outputs": [
    {
     "data": {
      "text/html": [
       "<div>\n",
       "<style scoped>\n",
       "    .dataframe tbody tr th:only-of-type {\n",
       "        vertical-align: middle;\n",
       "    }\n",
       "\n",
       "    .dataframe tbody tr th {\n",
       "        vertical-align: top;\n",
       "    }\n",
       "\n",
       "    .dataframe thead th {\n",
       "        text-align: right;\n",
       "    }\n",
       "</style>\n",
       "<table border=\"1\" class=\"dataframe\">\n",
       "  <thead>\n",
       "    <tr style=\"text-align: right;\">\n",
       "      <th></th>\n",
       "      <th>client_id</th>\n",
       "      <th>clnt_tenure_yr</th>\n",
       "      <th>clnt_tenure_mnth</th>\n",
       "      <th>clnt_age</th>\n",
       "      <th>gendr</th>\n",
       "      <th>num_accts</th>\n",
       "      <th>bal</th>\n",
       "      <th>calls_6_mnth</th>\n",
       "      <th>logons_6_mnth</th>\n",
       "    </tr>\n",
       "  </thead>\n",
       "  <tbody>\n",
       "    <tr>\n",
       "      <th>0</th>\n",
       "      <td>836976</td>\n",
       "      <td>6.0</td>\n",
       "      <td>73.0</td>\n",
       "      <td>60.5</td>\n",
       "      <td>U</td>\n",
       "      <td>2.0</td>\n",
       "      <td>45105.30</td>\n",
       "      <td>6.0</td>\n",
       "      <td>9.0</td>\n",
       "    </tr>\n",
       "    <tr>\n",
       "      <th>1</th>\n",
       "      <td>2304905</td>\n",
       "      <td>7.0</td>\n",
       "      <td>94.0</td>\n",
       "      <td>58.0</td>\n",
       "      <td>U</td>\n",
       "      <td>2.0</td>\n",
       "      <td>110860.30</td>\n",
       "      <td>6.0</td>\n",
       "      <td>9.0</td>\n",
       "    </tr>\n",
       "    <tr>\n",
       "      <th>2</th>\n",
       "      <td>1439522</td>\n",
       "      <td>5.0</td>\n",
       "      <td>64.0</td>\n",
       "      <td>32.0</td>\n",
       "      <td>U</td>\n",
       "      <td>2.0</td>\n",
       "      <td>52467.79</td>\n",
       "      <td>6.0</td>\n",
       "      <td>9.0</td>\n",
       "    </tr>\n",
       "    <tr>\n",
       "      <th>3</th>\n",
       "      <td>1562045</td>\n",
       "      <td>16.0</td>\n",
       "      <td>198.0</td>\n",
       "      <td>49.0</td>\n",
       "      <td>M</td>\n",
       "      <td>2.0</td>\n",
       "      <td>67454.65</td>\n",
       "      <td>3.0</td>\n",
       "      <td>6.0</td>\n",
       "    </tr>\n",
       "    <tr>\n",
       "      <th>4</th>\n",
       "      <td>5126305</td>\n",
       "      <td>12.0</td>\n",
       "      <td>145.0</td>\n",
       "      <td>33.0</td>\n",
       "      <td>F</td>\n",
       "      <td>2.0</td>\n",
       "      <td>103671.75</td>\n",
       "      <td>0.0</td>\n",
       "      <td>3.0</td>\n",
       "    </tr>\n",
       "    <tr>\n",
       "      <th>...</th>\n",
       "      <td>...</td>\n",
       "      <td>...</td>\n",
       "      <td>...</td>\n",
       "      <td>...</td>\n",
       "      <td>...</td>\n",
       "      <td>...</td>\n",
       "      <td>...</td>\n",
       "      <td>...</td>\n",
       "      <td>...</td>\n",
       "    </tr>\n",
       "    <tr>\n",
       "      <th>70604</th>\n",
       "      <td>7993686</td>\n",
       "      <td>4.0</td>\n",
       "      <td>56.0</td>\n",
       "      <td>38.5</td>\n",
       "      <td>U</td>\n",
       "      <td>3.0</td>\n",
       "      <td>1411062.68</td>\n",
       "      <td>5.0</td>\n",
       "      <td>5.0</td>\n",
       "    </tr>\n",
       "    <tr>\n",
       "      <th>70605</th>\n",
       "      <td>8981690</td>\n",
       "      <td>12.0</td>\n",
       "      <td>148.0</td>\n",
       "      <td>31.0</td>\n",
       "      <td>M</td>\n",
       "      <td>2.0</td>\n",
       "      <td>101867.07</td>\n",
       "      <td>6.0</td>\n",
       "      <td>6.0</td>\n",
       "    </tr>\n",
       "    <tr>\n",
       "      <th>70606</th>\n",
       "      <td>333913</td>\n",
       "      <td>16.0</td>\n",
       "      <td>198.0</td>\n",
       "      <td>61.5</td>\n",
       "      <td>F</td>\n",
       "      <td>2.0</td>\n",
       "      <td>40745.00</td>\n",
       "      <td>3.0</td>\n",
       "      <td>3.0</td>\n",
       "    </tr>\n",
       "    <tr>\n",
       "      <th>70607</th>\n",
       "      <td>1573142</td>\n",
       "      <td>21.0</td>\n",
       "      <td>255.0</td>\n",
       "      <td>68.0</td>\n",
       "      <td>M</td>\n",
       "      <td>3.0</td>\n",
       "      <td>475114.69</td>\n",
       "      <td>4.0</td>\n",
       "      <td>4.0</td>\n",
       "    </tr>\n",
       "    <tr>\n",
       "      <th>70608</th>\n",
       "      <td>5602139</td>\n",
       "      <td>21.0</td>\n",
       "      <td>254.0</td>\n",
       "      <td>59.5</td>\n",
       "      <td>F</td>\n",
       "      <td>3.0</td>\n",
       "      <td>157498.73</td>\n",
       "      <td>7.0</td>\n",
       "      <td>7.0</td>\n",
       "    </tr>\n",
       "  </tbody>\n",
       "</table>\n",
       "<p>70609 rows × 9 columns</p>\n",
       "</div>"
      ],
      "text/plain": [
       "       client_id  clnt_tenure_yr  clnt_tenure_mnth  clnt_age gendr  num_accts  \\\n",
       "0         836976             6.0              73.0      60.5     U        2.0   \n",
       "1        2304905             7.0              94.0      58.0     U        2.0   \n",
       "2        1439522             5.0              64.0      32.0     U        2.0   \n",
       "3        1562045            16.0             198.0      49.0     M        2.0   \n",
       "4        5126305            12.0             145.0      33.0     F        2.0   \n",
       "...          ...             ...               ...       ...   ...        ...   \n",
       "70604    7993686             4.0              56.0      38.5     U        3.0   \n",
       "70605    8981690            12.0             148.0      31.0     M        2.0   \n",
       "70606     333913            16.0             198.0      61.5     F        2.0   \n",
       "70607    1573142            21.0             255.0      68.0     M        3.0   \n",
       "70608    5602139            21.0             254.0      59.5     F        3.0   \n",
       "\n",
       "              bal  calls_6_mnth  logons_6_mnth  \n",
       "0        45105.30           6.0            9.0  \n",
       "1       110860.30           6.0            9.0  \n",
       "2        52467.79           6.0            9.0  \n",
       "3        67454.65           3.0            6.0  \n",
       "4       103671.75           0.0            3.0  \n",
       "...           ...           ...            ...  \n",
       "70604  1411062.68           5.0            5.0  \n",
       "70605   101867.07           6.0            6.0  \n",
       "70606    40745.00           3.0            3.0  \n",
       "70607   475114.69           4.0            4.0  \n",
       "70608   157498.73           7.0            7.0  \n",
       "\n",
       "[70609 rows x 9 columns]"
      ]
     },
     "execution_count": 72,
     "metadata": {},
     "output_type": "execute_result"
    }
   ],
   "source": [
    "df_profile = pd.read_csv(\"C:/Users/Meli/Desktop/Ironhack/Lab1/week5_project/data/df_final_demo.txt\")\n",
    "df_profile"
   ]
  },
  {
   "cell_type": "markdown",
   "id": "f5b7947c-783b-4f3a-ac3e-e155ba79cb76",
   "metadata": {},
   "source": [
    "# Data wrangling"
   ]
  },
  {
   "cell_type": "code",
   "execution_count": 73,
   "id": "931d739e-6edd-4dce-93f0-778d4ddff5ea",
   "metadata": {},
   "outputs": [
    {
     "data": {
      "text/plain": [
       "client_id             int64\n",
       "clnt_tenure_yr      float64\n",
       "clnt_tenure_mnth    float64\n",
       "clnt_age            float64\n",
       "gendr                object\n",
       "num_accts           float64\n",
       "bal                 float64\n",
       "calls_6_mnth        float64\n",
       "logons_6_mnth       float64\n",
       "dtype: object"
      ]
     },
     "execution_count": 73,
     "metadata": {},
     "output_type": "execute_result"
    }
   ],
   "source": [
    "df_profile.dtypes"
   ]
  },
  {
   "cell_type": "code",
   "execution_count": 74,
   "id": "a91f0a53-0191-4d30-a41b-e9e3313680dc",
   "metadata": {},
   "outputs": [
    {
     "data": {
      "text/plain": [
       "Index(['client_id', 'clnt_tenure_yr', 'clnt_tenure_mnth', 'clnt_age', 'gendr',\n",
       "       'num_accts', 'bal', 'calls_6_mnth', 'logons_6_mnth'],\n",
       "      dtype='object')"
      ]
     },
     "execution_count": 74,
     "metadata": {},
     "output_type": "execute_result"
    }
   ],
   "source": [
    "df_profile.columns"
   ]
  },
  {
   "cell_type": "code",
   "execution_count": 75,
   "id": "f79a4f25-933d-4a76-a33b-15ee58af2c82",
   "metadata": {},
   "outputs": [
    {
     "data": {
      "text/plain": [
       "0        U\n",
       "1        U\n",
       "2        U\n",
       "3        M\n",
       "4        F\n",
       "        ..\n",
       "70604    U\n",
       "70605    M\n",
       "70606    F\n",
       "70607    M\n",
       "70608    F\n",
       "Name: gendr, Length: 70609, dtype: object"
      ]
     },
     "execution_count": 75,
     "metadata": {},
     "output_type": "execute_result"
    }
   ],
   "source": [
    "df_profile[\"clnt_tenure_yr\"].fillna(0).astype(float)\n",
    "df_profile[\"clnt_tenure_mnth\"].fillna(0).astype(float)\n",
    "df_profile[\"clnt_age\"].fillna(0).astype(float)\n",
    "df_profile[\"num_accts\"].fillna(0).astype(float)\n",
    "df_profile[\"bal\"].fillna(0).astype(float)\n",
    "df_profile[\"calls_6_mnth\"].fillna(0).astype(float)\n",
    "df_profile[\"logons_6_mnth\"].fillna(0).astype(float)\n",
    "df_profile[\"client_id\"].fillna(0).astype(int)\n",
    "df_profile[\"gendr\"].fillna(\"Unknown\").astype(str)"
   ]
  },
  {
   "cell_type": "code",
   "execution_count": 76,
   "id": "a4995813-43fc-44d8-aa72-7f7707b4559f",
   "metadata": {},
   "outputs": [
    {
     "data": {
      "text/html": [
       "<div>\n",
       "<style scoped>\n",
       "    .dataframe tbody tr th:only-of-type {\n",
       "        vertical-align: middle;\n",
       "    }\n",
       "\n",
       "    .dataframe tbody tr th {\n",
       "        vertical-align: top;\n",
       "    }\n",
       "\n",
       "    .dataframe thead th {\n",
       "        text-align: right;\n",
       "    }\n",
       "</style>\n",
       "<table border=\"1\" class=\"dataframe\">\n",
       "  <thead>\n",
       "    <tr style=\"text-align: right;\">\n",
       "      <th></th>\n",
       "      <th>client_id</th>\n",
       "      <th>clnt_tenure_yr</th>\n",
       "      <th>clnt_tenure_mnth</th>\n",
       "      <th>clnt_age</th>\n",
       "      <th>gendr</th>\n",
       "      <th>num_accts</th>\n",
       "      <th>bal</th>\n",
       "      <th>calls_6_mnth</th>\n",
       "      <th>logons_6_mnth</th>\n",
       "    </tr>\n",
       "  </thead>\n",
       "  <tbody>\n",
       "    <tr>\n",
       "      <th>3</th>\n",
       "      <td>1562045</td>\n",
       "      <td>16.0</td>\n",
       "      <td>198.0</td>\n",
       "      <td>49.0</td>\n",
       "      <td>M</td>\n",
       "      <td>2.0</td>\n",
       "      <td>67454.65</td>\n",
       "      <td>3.0</td>\n",
       "      <td>6.0</td>\n",
       "    </tr>\n",
       "    <tr>\n",
       "      <th>4</th>\n",
       "      <td>5126305</td>\n",
       "      <td>12.0</td>\n",
       "      <td>145.0</td>\n",
       "      <td>33.0</td>\n",
       "      <td>F</td>\n",
       "      <td>2.0</td>\n",
       "      <td>103671.75</td>\n",
       "      <td>0.0</td>\n",
       "      <td>3.0</td>\n",
       "    </tr>\n",
       "    <tr>\n",
       "      <th>7</th>\n",
       "      <td>388801</td>\n",
       "      <td>30.0</td>\n",
       "      <td>361.0</td>\n",
       "      <td>57.5</td>\n",
       "      <td>M</td>\n",
       "      <td>5.0</td>\n",
       "      <td>522498.72</td>\n",
       "      <td>1.0</td>\n",
       "      <td>4.0</td>\n",
       "    </tr>\n",
       "    <tr>\n",
       "      <th>8</th>\n",
       "      <td>285619</td>\n",
       "      <td>30.0</td>\n",
       "      <td>369.0</td>\n",
       "      <td>67.5</td>\n",
       "      <td>M</td>\n",
       "      <td>2.0</td>\n",
       "      <td>299388.72</td>\n",
       "      <td>3.0</td>\n",
       "      <td>6.0</td>\n",
       "    </tr>\n",
       "    <tr>\n",
       "      <th>9</th>\n",
       "      <td>8198645</td>\n",
       "      <td>15.0</td>\n",
       "      <td>189.0</td>\n",
       "      <td>54.5</td>\n",
       "      <td>F</td>\n",
       "      <td>2.0</td>\n",
       "      <td>382303.83</td>\n",
       "      <td>6.0</td>\n",
       "      <td>9.0</td>\n",
       "    </tr>\n",
       "    <tr>\n",
       "      <th>...</th>\n",
       "      <td>...</td>\n",
       "      <td>...</td>\n",
       "      <td>...</td>\n",
       "      <td>...</td>\n",
       "      <td>...</td>\n",
       "      <td>...</td>\n",
       "      <td>...</td>\n",
       "      <td>...</td>\n",
       "      <td>...</td>\n",
       "    </tr>\n",
       "    <tr>\n",
       "      <th>70602</th>\n",
       "      <td>7979279</td>\n",
       "      <td>4.0</td>\n",
       "      <td>49.0</td>\n",
       "      <td>35.0</td>\n",
       "      <td>F</td>\n",
       "      <td>2.0</td>\n",
       "      <td>40441.45</td>\n",
       "      <td>3.0</td>\n",
       "      <td>3.0</td>\n",
       "    </tr>\n",
       "    <tr>\n",
       "      <th>70605</th>\n",
       "      <td>8981690</td>\n",
       "      <td>12.0</td>\n",
       "      <td>148.0</td>\n",
       "      <td>31.0</td>\n",
       "      <td>M</td>\n",
       "      <td>2.0</td>\n",
       "      <td>101867.07</td>\n",
       "      <td>6.0</td>\n",
       "      <td>6.0</td>\n",
       "    </tr>\n",
       "    <tr>\n",
       "      <th>70606</th>\n",
       "      <td>333913</td>\n",
       "      <td>16.0</td>\n",
       "      <td>198.0</td>\n",
       "      <td>61.5</td>\n",
       "      <td>F</td>\n",
       "      <td>2.0</td>\n",
       "      <td>40745.00</td>\n",
       "      <td>3.0</td>\n",
       "      <td>3.0</td>\n",
       "    </tr>\n",
       "    <tr>\n",
       "      <th>70607</th>\n",
       "      <td>1573142</td>\n",
       "      <td>21.0</td>\n",
       "      <td>255.0</td>\n",
       "      <td>68.0</td>\n",
       "      <td>M</td>\n",
       "      <td>3.0</td>\n",
       "      <td>475114.69</td>\n",
       "      <td>4.0</td>\n",
       "      <td>4.0</td>\n",
       "    </tr>\n",
       "    <tr>\n",
       "      <th>70608</th>\n",
       "      <td>5602139</td>\n",
       "      <td>21.0</td>\n",
       "      <td>254.0</td>\n",
       "      <td>59.5</td>\n",
       "      <td>F</td>\n",
       "      <td>3.0</td>\n",
       "      <td>157498.73</td>\n",
       "      <td>7.0</td>\n",
       "      <td>7.0</td>\n",
       "    </tr>\n",
       "  </tbody>\n",
       "</table>\n",
       "<p>46484 rows × 9 columns</p>\n",
       "</div>"
      ],
      "text/plain": [
       "       client_id  clnt_tenure_yr  clnt_tenure_mnth  clnt_age gendr  num_accts  \\\n",
       "3        1562045            16.0             198.0      49.0     M        2.0   \n",
       "4        5126305            12.0             145.0      33.0     F        2.0   \n",
       "7         388801            30.0             361.0      57.5     M        5.0   \n",
       "8         285619            30.0             369.0      67.5     M        2.0   \n",
       "9        8198645            15.0             189.0      54.5     F        2.0   \n",
       "...          ...             ...               ...       ...   ...        ...   \n",
       "70602    7979279             4.0              49.0      35.0     F        2.0   \n",
       "70605    8981690            12.0             148.0      31.0     M        2.0   \n",
       "70606     333913            16.0             198.0      61.5     F        2.0   \n",
       "70607    1573142            21.0             255.0      68.0     M        3.0   \n",
       "70608    5602139            21.0             254.0      59.5     F        3.0   \n",
       "\n",
       "             bal  calls_6_mnth  logons_6_mnth  \n",
       "3       67454.65           3.0            6.0  \n",
       "4      103671.75           0.0            3.0  \n",
       "7      522498.72           1.0            4.0  \n",
       "8      299388.72           3.0            6.0  \n",
       "9      382303.83           6.0            9.0  \n",
       "...          ...           ...            ...  \n",
       "70602   40441.45           3.0            3.0  \n",
       "70605  101867.07           6.0            6.0  \n",
       "70606   40745.00           3.0            3.0  \n",
       "70607  475114.69           4.0            4.0  \n",
       "70608  157498.73           7.0            7.0  \n",
       "\n",
       "[46484 rows x 9 columns]"
      ]
     },
     "metadata": {},
     "output_type": "display_data"
    }
   ],
   "source": [
    "# Drop rows where 'gendr' column is 'U' or 'X'\n",
    "df_profile = df_profile[~df_profile['gendr'].isin(['U', 'X'])]\n",
    "\n",
    "display(df_profile)"
   ]
  },
  {
   "cell_type": "code",
   "execution_count": 77,
   "id": "f5ed51da-5570-4931-85e5-08df0f73d897",
   "metadata": {
    "scrolled": true
   },
   "outputs": [
    {
     "data": {
      "text/plain": [
       "gendr\n",
       "M    23724\n",
       "F    22746\n",
       "Name: count, dtype: int64"
      ]
     },
     "execution_count": 77,
     "metadata": {},
     "output_type": "execute_result"
    }
   ],
   "source": [
    "df_profile[\"gendr\"].value_counts()"
   ]
  },
  {
   "cell_type": "code",
   "execution_count": 78,
   "id": "c44ad476-b02f-4fe0-a0de-ce438c224d99",
   "metadata": {},
   "outputs": [
    {
     "data": {
      "text/plain": [
       "clnt_age            15\n",
       "clnt_tenure_yr      14\n",
       "clnt_tenure_mnth    14\n",
       "gendr               14\n",
       "num_accts           14\n",
       "bal                 14\n",
       "calls_6_mnth        14\n",
       "logons_6_mnth       14\n",
       "client_id            0\n",
       "dtype: int64"
      ]
     },
     "execution_count": 78,
     "metadata": {},
     "output_type": "execute_result"
    }
   ],
   "source": [
    "## this is the only dataset with null values\n",
    "df_profile.isnull().sum().sort_values(ascending=False)"
   ]
  },
  {
   "cell_type": "code",
   "execution_count": 79,
   "id": "c51bf29c-e867-4f7c-ac51-e51f3006ffea",
   "metadata": {},
   "outputs": [
    {
     "data": {
      "text/html": [
       "<div>\n",
       "<style scoped>\n",
       "    .dataframe tbody tr th:only-of-type {\n",
       "        vertical-align: middle;\n",
       "    }\n",
       "\n",
       "    .dataframe tbody tr th {\n",
       "        vertical-align: top;\n",
       "    }\n",
       "\n",
       "    .dataframe thead th {\n",
       "        text-align: right;\n",
       "    }\n",
       "</style>\n",
       "<table border=\"1\" class=\"dataframe\">\n",
       "  <thead>\n",
       "    <tr style=\"text-align: right;\">\n",
       "      <th></th>\n",
       "      <th>client_id</th>\n",
       "      <th>Variation</th>\n",
       "    </tr>\n",
       "  </thead>\n",
       "  <tbody>\n",
       "    <tr>\n",
       "      <th>0</th>\n",
       "      <td>9988021</td>\n",
       "      <td>Test</td>\n",
       "    </tr>\n",
       "    <tr>\n",
       "      <th>1</th>\n",
       "      <td>8320017</td>\n",
       "      <td>Test</td>\n",
       "    </tr>\n",
       "    <tr>\n",
       "      <th>2</th>\n",
       "      <td>4033851</td>\n",
       "      <td>Control</td>\n",
       "    </tr>\n",
       "    <tr>\n",
       "      <th>3</th>\n",
       "      <td>1982004</td>\n",
       "      <td>Test</td>\n",
       "    </tr>\n",
       "    <tr>\n",
       "      <th>4</th>\n",
       "      <td>9294070</td>\n",
       "      <td>Control</td>\n",
       "    </tr>\n",
       "    <tr>\n",
       "      <th>...</th>\n",
       "      <td>...</td>\n",
       "      <td>...</td>\n",
       "    </tr>\n",
       "    <tr>\n",
       "      <th>70604</th>\n",
       "      <td>2443347</td>\n",
       "      <td>NaN</td>\n",
       "    </tr>\n",
       "    <tr>\n",
       "      <th>70605</th>\n",
       "      <td>8788427</td>\n",
       "      <td>NaN</td>\n",
       "    </tr>\n",
       "    <tr>\n",
       "      <th>70606</th>\n",
       "      <td>266828</td>\n",
       "      <td>NaN</td>\n",
       "    </tr>\n",
       "    <tr>\n",
       "      <th>70607</th>\n",
       "      <td>1266421</td>\n",
       "      <td>NaN</td>\n",
       "    </tr>\n",
       "    <tr>\n",
       "      <th>70608</th>\n",
       "      <td>9895983</td>\n",
       "      <td>NaN</td>\n",
       "    </tr>\n",
       "  </tbody>\n",
       "</table>\n",
       "<p>70609 rows × 2 columns</p>\n",
       "</div>"
      ],
      "text/plain": [
       "       client_id Variation\n",
       "0        9988021      Test\n",
       "1        8320017      Test\n",
       "2        4033851   Control\n",
       "3        1982004      Test\n",
       "4        9294070   Control\n",
       "...          ...       ...\n",
       "70604    2443347       NaN\n",
       "70605    8788427       NaN\n",
       "70606     266828       NaN\n",
       "70607    1266421       NaN\n",
       "70608    9895983       NaN\n",
       "\n",
       "[70609 rows x 2 columns]"
      ]
     },
     "execution_count": 79,
     "metadata": {},
     "output_type": "execute_result"
    }
   ],
   "source": [
    "df_roster = pd.read_csv(\"C:/Users/Meli/Desktop/Ironhack/Lab1/week5_project/data/df_final_experiment_clients.txt\")\n",
    "df_roster"
   ]
  },
  {
   "cell_type": "code",
   "execution_count": 80,
   "id": "6d40aa6a-1f8f-48c5-b89a-762c2c34ff64",
   "metadata": {},
   "outputs": [
    {
     "data": {
      "text/plain": [
       "client_id     int64\n",
       "Variation    object\n",
       "dtype: object"
      ]
     },
     "execution_count": 80,
     "metadata": {},
     "output_type": "execute_result"
    }
   ],
   "source": [
    "df_roster.dtypes"
   ]
  },
  {
   "cell_type": "code",
   "execution_count": 81,
   "id": "21aa91e4-da78-40e9-a782-3992231f7606",
   "metadata": {},
   "outputs": [
    {
     "data": {
      "text/plain": [
       "Index(['client_id', 'Variation'], dtype='object')"
      ]
     },
     "execution_count": 81,
     "metadata": {},
     "output_type": "execute_result"
    }
   ],
   "source": [
    "df_roster.columns"
   ]
  },
  {
   "cell_type": "code",
   "execution_count": 82,
   "id": "a45a00b4-f5fb-4700-b277-a772197c66b0",
   "metadata": {},
   "outputs": [
    {
     "data": {
      "text/plain": [
       "Variation    20109\n",
       "client_id        0\n",
       "dtype: int64"
      ]
     },
     "execution_count": 82,
     "metadata": {},
     "output_type": "execute_result"
    }
   ],
   "source": [
    "df_roster.isnull().sum().sort_values(ascending=False)"
   ]
  },
  {
   "cell_type": "code",
   "execution_count": 83,
   "id": "99b9afcb-7cac-49a1-9df8-33aa7f84b197",
   "metadata": {},
   "outputs": [
    {
     "data": {
      "text/html": [
       "<div>\n",
       "<style scoped>\n",
       "    .dataframe tbody tr th:only-of-type {\n",
       "        vertical-align: middle;\n",
       "    }\n",
       "\n",
       "    .dataframe tbody tr th {\n",
       "        vertical-align: top;\n",
       "    }\n",
       "\n",
       "    .dataframe thead th {\n",
       "        text-align: right;\n",
       "    }\n",
       "</style>\n",
       "<table border=\"1\" class=\"dataframe\">\n",
       "  <thead>\n",
       "    <tr style=\"text-align: right;\">\n",
       "      <th></th>\n",
       "      <th>client_id</th>\n",
       "      <th>Variation</th>\n",
       "    </tr>\n",
       "  </thead>\n",
       "  <tbody>\n",
       "    <tr>\n",
       "      <th>0</th>\n",
       "      <td>9988021</td>\n",
       "      <td>Test</td>\n",
       "    </tr>\n",
       "    <tr>\n",
       "      <th>1</th>\n",
       "      <td>8320017</td>\n",
       "      <td>Test</td>\n",
       "    </tr>\n",
       "    <tr>\n",
       "      <th>2</th>\n",
       "      <td>4033851</td>\n",
       "      <td>Control</td>\n",
       "    </tr>\n",
       "    <tr>\n",
       "      <th>3</th>\n",
       "      <td>1982004</td>\n",
       "      <td>Test</td>\n",
       "    </tr>\n",
       "    <tr>\n",
       "      <th>4</th>\n",
       "      <td>9294070</td>\n",
       "      <td>Control</td>\n",
       "    </tr>\n",
       "    <tr>\n",
       "      <th>...</th>\n",
       "      <td>...</td>\n",
       "      <td>...</td>\n",
       "    </tr>\n",
       "    <tr>\n",
       "      <th>50495</th>\n",
       "      <td>393005</td>\n",
       "      <td>Control</td>\n",
       "    </tr>\n",
       "    <tr>\n",
       "      <th>50496</th>\n",
       "      <td>2908510</td>\n",
       "      <td>Control</td>\n",
       "    </tr>\n",
       "    <tr>\n",
       "      <th>50497</th>\n",
       "      <td>7230446</td>\n",
       "      <td>Test</td>\n",
       "    </tr>\n",
       "    <tr>\n",
       "      <th>50498</th>\n",
       "      <td>5230357</td>\n",
       "      <td>Test</td>\n",
       "    </tr>\n",
       "    <tr>\n",
       "      <th>50499</th>\n",
       "      <td>6334360</td>\n",
       "      <td>Test</td>\n",
       "    </tr>\n",
       "  </tbody>\n",
       "</table>\n",
       "<p>50500 rows × 2 columns</p>\n",
       "</div>"
      ],
      "text/plain": [
       "       client_id Variation\n",
       "0        9988021      Test\n",
       "1        8320017      Test\n",
       "2        4033851   Control\n",
       "3        1982004      Test\n",
       "4        9294070   Control\n",
       "...          ...       ...\n",
       "50495     393005   Control\n",
       "50496    2908510   Control\n",
       "50497    7230446      Test\n",
       "50498    5230357      Test\n",
       "50499    6334360      Test\n",
       "\n",
       "[50500 rows x 2 columns]"
      ]
     },
     "metadata": {},
     "output_type": "display_data"
    }
   ],
   "source": [
    "# Drop rows where 'Variation' column has NaN values\n",
    "df_roster = df_roster.dropna(subset=['Variation'])\n",
    "\n",
    "display(df_roster)"
   ]
  },
  {
   "cell_type": "code",
   "execution_count": 84,
   "id": "ac62ffb4-4892-45a7-898d-c116d5e70ba2",
   "metadata": {},
   "outputs": [
    {
     "data": {
      "text/html": [
       "<div>\n",
       "<style scoped>\n",
       "    .dataframe tbody tr th:only-of-type {\n",
       "        vertical-align: middle;\n",
       "    }\n",
       "\n",
       "    .dataframe tbody tr th {\n",
       "        vertical-align: top;\n",
       "    }\n",
       "\n",
       "    .dataframe thead th {\n",
       "        text-align: right;\n",
       "    }\n",
       "</style>\n",
       "<table border=\"1\" class=\"dataframe\">\n",
       "  <thead>\n",
       "    <tr style=\"text-align: right;\">\n",
       "      <th></th>\n",
       "      <th>client_id</th>\n",
       "      <th>visitor_id</th>\n",
       "      <th>visit_id</th>\n",
       "      <th>process_step</th>\n",
       "      <th>date_time</th>\n",
       "    </tr>\n",
       "  </thead>\n",
       "  <tbody>\n",
       "    <tr>\n",
       "      <th>0</th>\n",
       "      <td>9988021</td>\n",
       "      <td>580560515_7732621733</td>\n",
       "      <td>781255054_21935453173_531117</td>\n",
       "      <td>step_3</td>\n",
       "      <td>2017-04-17 15:27:07</td>\n",
       "    </tr>\n",
       "    <tr>\n",
       "      <th>1</th>\n",
       "      <td>9988021</td>\n",
       "      <td>580560515_7732621733</td>\n",
       "      <td>781255054_21935453173_531117</td>\n",
       "      <td>step_2</td>\n",
       "      <td>2017-04-17 15:26:51</td>\n",
       "    </tr>\n",
       "    <tr>\n",
       "      <th>2</th>\n",
       "      <td>9988021</td>\n",
       "      <td>580560515_7732621733</td>\n",
       "      <td>781255054_21935453173_531117</td>\n",
       "      <td>step_3</td>\n",
       "      <td>2017-04-17 15:19:22</td>\n",
       "    </tr>\n",
       "    <tr>\n",
       "      <th>3</th>\n",
       "      <td>9988021</td>\n",
       "      <td>580560515_7732621733</td>\n",
       "      <td>781255054_21935453173_531117</td>\n",
       "      <td>step_2</td>\n",
       "      <td>2017-04-17 15:19:13</td>\n",
       "    </tr>\n",
       "    <tr>\n",
       "      <th>4</th>\n",
       "      <td>9988021</td>\n",
       "      <td>580560515_7732621733</td>\n",
       "      <td>781255054_21935453173_531117</td>\n",
       "      <td>step_3</td>\n",
       "      <td>2017-04-17 15:18:04</td>\n",
       "    </tr>\n",
       "  </tbody>\n",
       "</table>\n",
       "</div>"
      ],
      "text/plain": [
       "   client_id            visitor_id                      visit_id process_step  \\\n",
       "0    9988021  580560515_7732621733  781255054_21935453173_531117       step_3   \n",
       "1    9988021  580560515_7732621733  781255054_21935453173_531117       step_2   \n",
       "2    9988021  580560515_7732621733  781255054_21935453173_531117       step_3   \n",
       "3    9988021  580560515_7732621733  781255054_21935453173_531117       step_2   \n",
       "4    9988021  580560515_7732621733  781255054_21935453173_531117       step_3   \n",
       "\n",
       "             date_time  \n",
       "0  2017-04-17 15:27:07  \n",
       "1  2017-04-17 15:26:51  \n",
       "2  2017-04-17 15:19:22  \n",
       "3  2017-04-17 15:19:13  \n",
       "4  2017-04-17 15:18:04  "
      ]
     },
     "execution_count": 84,
     "metadata": {},
     "output_type": "execute_result"
    }
   ],
   "source": [
    "df_web1 = pd.read_csv(\"C:/Users/Meli/Desktop/Ironhack/Lab1/week5_project/data/df_final_web_data_pt_1.txt\")\n",
    "df_web1.head(5)"
   ]
  },
  {
   "cell_type": "code",
   "execution_count": 85,
   "id": "a1520a97-4d36-4482-bf05-006618d83daa",
   "metadata": {},
   "outputs": [
    {
     "data": {
      "text/plain": [
       "client_id        int64\n",
       "visitor_id      object\n",
       "visit_id        object\n",
       "process_step    object\n",
       "date_time       object\n",
       "dtype: object"
      ]
     },
     "execution_count": 85,
     "metadata": {},
     "output_type": "execute_result"
    }
   ],
   "source": [
    "df_web1.dtypes"
   ]
  },
  {
   "cell_type": "code",
   "execution_count": 86,
   "id": "218c9ef9-a239-4d6d-95fc-c672000f8b64",
   "metadata": {},
   "outputs": [
    {
     "data": {
      "text/plain": [
       "Index(['client_id', 'visitor_id', 'visit_id', 'process_step', 'date_time'], dtype='object')"
      ]
     },
     "execution_count": 86,
     "metadata": {},
     "output_type": "execute_result"
    }
   ],
   "source": [
    "df_web1.columns"
   ]
  },
  {
   "cell_type": "code",
   "execution_count": 87,
   "id": "853800fc-e98b-46b8-bc03-ff3597922fa8",
   "metadata": {},
   "outputs": [
    {
     "data": {
      "text/plain": [
       "Index(['client_id', 'visitor_id', 'visit_id', 'process_step', 'date_time'], dtype='object')"
      ]
     },
     "execution_count": 87,
     "metadata": {},
     "output_type": "execute_result"
    }
   ],
   "source": [
    "df_web2.columns"
   ]
  },
  {
   "cell_type": "code",
   "execution_count": 88,
   "id": "044be6b6-944a-459b-bb8c-adcd1b08119b",
   "metadata": {},
   "outputs": [
    {
     "data": {
      "text/html": [
       "<div>\n",
       "<style scoped>\n",
       "    .dataframe tbody tr th:only-of-type {\n",
       "        vertical-align: middle;\n",
       "    }\n",
       "\n",
       "    .dataframe tbody tr th {\n",
       "        vertical-align: top;\n",
       "    }\n",
       "\n",
       "    .dataframe thead th {\n",
       "        text-align: right;\n",
       "    }\n",
       "</style>\n",
       "<table border=\"1\" class=\"dataframe\">\n",
       "  <thead>\n",
       "    <tr style=\"text-align: right;\">\n",
       "      <th></th>\n",
       "      <th>client_id</th>\n",
       "      <th>visitor_id</th>\n",
       "      <th>visit_id</th>\n",
       "      <th>process_step</th>\n",
       "      <th>date_time</th>\n",
       "    </tr>\n",
       "  </thead>\n",
       "  <tbody>\n",
       "    <tr>\n",
       "      <th>0</th>\n",
       "      <td>763412</td>\n",
       "      <td>601952081_10457207388</td>\n",
       "      <td>397475557_40440946728_419634</td>\n",
       "      <td>confirm</td>\n",
       "      <td>2017-06-06 08:56:00</td>\n",
       "    </tr>\n",
       "    <tr>\n",
       "      <th>1</th>\n",
       "      <td>6019349</td>\n",
       "      <td>442094451_91531546617</td>\n",
       "      <td>154620534_35331068705_522317</td>\n",
       "      <td>confirm</td>\n",
       "      <td>2017-06-01 11:59:27</td>\n",
       "    </tr>\n",
       "    <tr>\n",
       "      <th>2</th>\n",
       "      <td>6019349</td>\n",
       "      <td>442094451_91531546617</td>\n",
       "      <td>154620534_35331068705_522317</td>\n",
       "      <td>step_3</td>\n",
       "      <td>2017-06-01 11:58:48</td>\n",
       "    </tr>\n",
       "    <tr>\n",
       "      <th>3</th>\n",
       "      <td>6019349</td>\n",
       "      <td>442094451_91531546617</td>\n",
       "      <td>154620534_35331068705_522317</td>\n",
       "      <td>step_2</td>\n",
       "      <td>2017-06-01 11:58:08</td>\n",
       "    </tr>\n",
       "    <tr>\n",
       "      <th>4</th>\n",
       "      <td>6019349</td>\n",
       "      <td>442094451_91531546617</td>\n",
       "      <td>154620534_35331068705_522317</td>\n",
       "      <td>step_1</td>\n",
       "      <td>2017-06-01 11:57:58</td>\n",
       "    </tr>\n",
       "  </tbody>\n",
       "</table>\n",
       "</div>"
      ],
      "text/plain": [
       "   client_id             visitor_id                      visit_id  \\\n",
       "0     763412  601952081_10457207388  397475557_40440946728_419634   \n",
       "1    6019349  442094451_91531546617  154620534_35331068705_522317   \n",
       "2    6019349  442094451_91531546617  154620534_35331068705_522317   \n",
       "3    6019349  442094451_91531546617  154620534_35331068705_522317   \n",
       "4    6019349  442094451_91531546617  154620534_35331068705_522317   \n",
       "\n",
       "  process_step            date_time  \n",
       "0      confirm  2017-06-06 08:56:00  \n",
       "1      confirm  2017-06-01 11:59:27  \n",
       "2       step_3  2017-06-01 11:58:48  \n",
       "3       step_2  2017-06-01 11:58:08  \n",
       "4       step_1  2017-06-01 11:57:58  "
      ]
     },
     "execution_count": 88,
     "metadata": {},
     "output_type": "execute_result"
    }
   ],
   "source": [
    "df_web2 = pd.read_csv(\"C:/Users/Meli/Desktop/Ironhack/Lab1/week5_project/data/df_final_web_data_pt_2.txt\")\n",
    "df_web2.head(5)"
   ]
  },
  {
   "cell_type": "code",
   "execution_count": 89,
   "id": "a7e7dc10-d0d8-4873-9557-050a794dff42",
   "metadata": {},
   "outputs": [
    {
     "data": {
      "text/plain": [
       "client_id        int64\n",
       "visitor_id      object\n",
       "visit_id        object\n",
       "process_step    object\n",
       "date_time       object\n",
       "dtype: object"
      ]
     },
     "execution_count": 89,
     "metadata": {},
     "output_type": "execute_result"
    }
   ],
   "source": [
    "df_web2.dtypes"
   ]
  },
  {
   "cell_type": "code",
   "execution_count": 90,
   "id": "2394c9e2-0d8a-4f47-821a-34e2ecbc8c1c",
   "metadata": {
    "scrolled": true
   },
   "outputs": [
    {
     "data": {
      "text/html": [
       "<div>\n",
       "<style scoped>\n",
       "    .dataframe tbody tr th:only-of-type {\n",
       "        vertical-align: middle;\n",
       "    }\n",
       "\n",
       "    .dataframe tbody tr th {\n",
       "        vertical-align: top;\n",
       "    }\n",
       "\n",
       "    .dataframe thead th {\n",
       "        text-align: right;\n",
       "    }\n",
       "</style>\n",
       "<table border=\"1\" class=\"dataframe\">\n",
       "  <thead>\n",
       "    <tr style=\"text-align: right;\">\n",
       "      <th></th>\n",
       "      <th>client_id</th>\n",
       "      <th>visitor_id</th>\n",
       "      <th>visit_id</th>\n",
       "      <th>process_step</th>\n",
       "      <th>date_time</th>\n",
       "    </tr>\n",
       "  </thead>\n",
       "  <tbody>\n",
       "    <tr>\n",
       "      <th>0</th>\n",
       "      <td>9988021</td>\n",
       "      <td>580560515_7732621733</td>\n",
       "      <td>781255054_21935453173_531117</td>\n",
       "      <td>step_3</td>\n",
       "      <td>2017-04-17 15:27:07</td>\n",
       "    </tr>\n",
       "    <tr>\n",
       "      <th>1</th>\n",
       "      <td>9988021</td>\n",
       "      <td>580560515_7732621733</td>\n",
       "      <td>781255054_21935453173_531117</td>\n",
       "      <td>step_2</td>\n",
       "      <td>2017-04-17 15:26:51</td>\n",
       "    </tr>\n",
       "    <tr>\n",
       "      <th>2</th>\n",
       "      <td>9988021</td>\n",
       "      <td>580560515_7732621733</td>\n",
       "      <td>781255054_21935453173_531117</td>\n",
       "      <td>step_3</td>\n",
       "      <td>2017-04-17 15:19:22</td>\n",
       "    </tr>\n",
       "    <tr>\n",
       "      <th>3</th>\n",
       "      <td>9988021</td>\n",
       "      <td>580560515_7732621733</td>\n",
       "      <td>781255054_21935453173_531117</td>\n",
       "      <td>step_2</td>\n",
       "      <td>2017-04-17 15:19:13</td>\n",
       "    </tr>\n",
       "    <tr>\n",
       "      <th>4</th>\n",
       "      <td>9988021</td>\n",
       "      <td>580560515_7732621733</td>\n",
       "      <td>781255054_21935453173_531117</td>\n",
       "      <td>step_3</td>\n",
       "      <td>2017-04-17 15:18:04</td>\n",
       "    </tr>\n",
       "    <tr>\n",
       "      <th>...</th>\n",
       "      <td>...</td>\n",
       "      <td>...</td>\n",
       "      <td>...</td>\n",
       "      <td>...</td>\n",
       "      <td>...</td>\n",
       "    </tr>\n",
       "    <tr>\n",
       "      <th>412259</th>\n",
       "      <td>9668240</td>\n",
       "      <td>388766751_9038881013</td>\n",
       "      <td>922267647_3096648104_968866</td>\n",
       "      <td>start</td>\n",
       "      <td>2017-05-24 18:46:10</td>\n",
       "    </tr>\n",
       "    <tr>\n",
       "      <th>412260</th>\n",
       "      <td>9668240</td>\n",
       "      <td>388766751_9038881013</td>\n",
       "      <td>922267647_3096648104_968866</td>\n",
       "      <td>start</td>\n",
       "      <td>2017-05-24 18:45:29</td>\n",
       "    </tr>\n",
       "    <tr>\n",
       "      <th>412261</th>\n",
       "      <td>9668240</td>\n",
       "      <td>388766751_9038881013</td>\n",
       "      <td>922267647_3096648104_968866</td>\n",
       "      <td>step_1</td>\n",
       "      <td>2017-05-24 18:44:51</td>\n",
       "    </tr>\n",
       "    <tr>\n",
       "      <th>412262</th>\n",
       "      <td>9668240</td>\n",
       "      <td>388766751_9038881013</td>\n",
       "      <td>922267647_3096648104_968866</td>\n",
       "      <td>start</td>\n",
       "      <td>2017-05-24 18:44:34</td>\n",
       "    </tr>\n",
       "    <tr>\n",
       "      <th>412263</th>\n",
       "      <td>674799</td>\n",
       "      <td>947159805_81558194550</td>\n",
       "      <td>86152093_47511127657_716022</td>\n",
       "      <td>start</td>\n",
       "      <td>2017-06-03 12:17:09</td>\n",
       "    </tr>\n",
       "  </tbody>\n",
       "</table>\n",
       "<p>755405 rows × 5 columns</p>\n",
       "</div>"
      ],
      "text/plain": [
       "        client_id             visitor_id                      visit_id  \\\n",
       "0         9988021   580560515_7732621733  781255054_21935453173_531117   \n",
       "1         9988021   580560515_7732621733  781255054_21935453173_531117   \n",
       "2         9988021   580560515_7732621733  781255054_21935453173_531117   \n",
       "3         9988021   580560515_7732621733  781255054_21935453173_531117   \n",
       "4         9988021   580560515_7732621733  781255054_21935453173_531117   \n",
       "...           ...                    ...                           ...   \n",
       "412259    9668240   388766751_9038881013   922267647_3096648104_968866   \n",
       "412260    9668240   388766751_9038881013   922267647_3096648104_968866   \n",
       "412261    9668240   388766751_9038881013   922267647_3096648104_968866   \n",
       "412262    9668240   388766751_9038881013   922267647_3096648104_968866   \n",
       "412263     674799  947159805_81558194550   86152093_47511127657_716022   \n",
       "\n",
       "       process_step            date_time  \n",
       "0            step_3  2017-04-17 15:27:07  \n",
       "1            step_2  2017-04-17 15:26:51  \n",
       "2            step_3  2017-04-17 15:19:22  \n",
       "3            step_2  2017-04-17 15:19:13  \n",
       "4            step_3  2017-04-17 15:18:04  \n",
       "...             ...                  ...  \n",
       "412259        start  2017-05-24 18:46:10  \n",
       "412260        start  2017-05-24 18:45:29  \n",
       "412261       step_1  2017-05-24 18:44:51  \n",
       "412262        start  2017-05-24 18:44:34  \n",
       "412263        start  2017-06-03 12:17:09  \n",
       "\n",
       "[755405 rows x 5 columns]"
      ]
     },
     "execution_count": 90,
     "metadata": {},
     "output_type": "execute_result"
    }
   ],
   "source": [
    "df_footprint = pd.concat([df_web1, df_web2])\n",
    "df_footprint"
   ]
  },
  {
   "cell_type": "code",
   "execution_count": 119,
   "id": "76beabf4-ef95-4407-9b4b-ec6569bf3fa7",
   "metadata": {},
   "outputs": [
    {
     "data": {
      "text/html": [
       "<div>\n",
       "<style scoped>\n",
       "    .dataframe tbody tr th:only-of-type {\n",
       "        vertical-align: middle;\n",
       "    }\n",
       "\n",
       "    .dataframe tbody tr th {\n",
       "        vertical-align: top;\n",
       "    }\n",
       "\n",
       "    .dataframe thead th {\n",
       "        text-align: right;\n",
       "    }\n",
       "</style>\n",
       "<table border=\"1\" class=\"dataframe\">\n",
       "  <thead>\n",
       "    <tr style=\"text-align: right;\">\n",
       "      <th>process_step</th>\n",
       "      <th>client_id</th>\n",
       "      <th>visitor_id</th>\n",
       "      <th>visit_id</th>\n",
       "      <th>confirm</th>\n",
       "      <th>start</th>\n",
       "      <th>step_1</th>\n",
       "      <th>step_2</th>\n",
       "      <th>step_3</th>\n",
       "      <th>total_duration</th>\n",
       "      <th>start_to_step_1</th>\n",
       "      <th>step_1_to_step_2</th>\n",
       "      <th>step_2_to_step_3</th>\n",
       "      <th>step_3_to_confirm</th>\n",
       "    </tr>\n",
       "  </thead>\n",
       "  <tbody>\n",
       "    <tr>\n",
       "      <th>0</th>\n",
       "      <td>169</td>\n",
       "      <td>201385055_71273495308</td>\n",
       "      <td>749567106_99161211863_557568</td>\n",
       "      <td>2017-04-12 20:23:09</td>\n",
       "      <td>2017-04-12 20:19:36.000</td>\n",
       "      <td>2017-04-12 20:19:45.000000000</td>\n",
       "      <td>2017-04-12 20:20:31.000</td>\n",
       "      <td>2017-04-12 20:22:05.000</td>\n",
       "      <td>0 days 00:03:33</td>\n",
       "      <td>0 days 00:00:09</td>\n",
       "      <td>0 days 00:00:46</td>\n",
       "      <td>0 days 00:01:34</td>\n",
       "      <td>0 days 00:01:04</td>\n",
       "    </tr>\n",
       "    <tr>\n",
       "      <th>1</th>\n",
       "      <td>546</td>\n",
       "      <td>475037402_89828530214</td>\n",
       "      <td>731811517_9330176838_94847</td>\n",
       "      <td>2017-06-17 10:05:42</td>\n",
       "      <td>2017-06-17 10:03:29.000</td>\n",
       "      <td>2017-06-17 10:03:39.000000000</td>\n",
       "      <td>2017-06-17 10:03:52.000</td>\n",
       "      <td>2017-06-17 10:05:19.000</td>\n",
       "      <td>0 days 00:02:13</td>\n",
       "      <td>0 days 00:00:10</td>\n",
       "      <td>0 days 00:00:13</td>\n",
       "      <td>0 days 00:01:27</td>\n",
       "      <td>0 days 00:00:23</td>\n",
       "    </tr>\n",
       "    <tr>\n",
       "      <th>2</th>\n",
       "      <td>555</td>\n",
       "      <td>402506806_56087378777</td>\n",
       "      <td>637149525_38041617439_716659</td>\n",
       "      <td>2017-04-15 13:00:34</td>\n",
       "      <td>2017-04-15 12:57:56.000</td>\n",
       "      <td>2017-04-15 12:58:03.000000000</td>\n",
       "      <td>2017-04-15 12:58:35.000</td>\n",
       "      <td>2017-04-15 13:00:14.000</td>\n",
       "      <td>0 days 00:02:38</td>\n",
       "      <td>0 days 00:00:07</td>\n",
       "      <td>0 days 00:00:32</td>\n",
       "      <td>0 days 00:01:39</td>\n",
       "      <td>0 days 00:00:20</td>\n",
       "    </tr>\n",
       "    <tr>\n",
       "      <th>3</th>\n",
       "      <td>647</td>\n",
       "      <td>66758770_53988066587</td>\n",
       "      <td>40369564_40101682850_311847</td>\n",
       "      <td>2017-04-12 15:47:45</td>\n",
       "      <td>2017-04-12 15:41:28.000</td>\n",
       "      <td>2017-04-12 15:41:35.000000000</td>\n",
       "      <td>2017-04-12 15:41:53.000</td>\n",
       "      <td>2017-04-12 15:45:02.000</td>\n",
       "      <td>0 days 00:06:17</td>\n",
       "      <td>0 days 00:00:07</td>\n",
       "      <td>0 days 00:00:18</td>\n",
       "      <td>0 days 00:03:09</td>\n",
       "      <td>0 days 00:02:43</td>\n",
       "    </tr>\n",
       "    <tr>\n",
       "      <th>4</th>\n",
       "      <td>722</td>\n",
       "      <td>919259913_64837298108</td>\n",
       "      <td>984487154_55831795985_521110</td>\n",
       "      <td>2017-04-19 15:00:09</td>\n",
       "      <td>2017-04-19 14:53:13.000</td>\n",
       "      <td>2017-04-19 14:52:36.666666752</td>\n",
       "      <td>2017-04-19 14:53:46.500</td>\n",
       "      <td>2017-04-19 14:57:27.000</td>\n",
       "      <td>0 days 00:06:56</td>\n",
       "      <td>-1 days +23:59:23.666666752</td>\n",
       "      <td>0 days 00:01:09.833333248</td>\n",
       "      <td>0 days 00:03:40.500000</td>\n",
       "      <td>0 days 00:02:42</td>\n",
       "    </tr>\n",
       "    <tr>\n",
       "      <th>...</th>\n",
       "      <td>...</td>\n",
       "      <td>...</td>\n",
       "      <td>...</td>\n",
       "      <td>...</td>\n",
       "      <td>...</td>\n",
       "      <td>...</td>\n",
       "      <td>...</td>\n",
       "      <td>...</td>\n",
       "      <td>...</td>\n",
       "      <td>...</td>\n",
       "      <td>...</td>\n",
       "      <td>...</td>\n",
       "      <td>...</td>\n",
       "    </tr>\n",
       "    <tr>\n",
       "      <th>77732</th>\n",
       "      <td>9999451</td>\n",
       "      <td>663981185_93902283828</td>\n",
       "      <td>611106889_67993488256_946460</td>\n",
       "      <td>2017-06-07 16:13:32</td>\n",
       "      <td>2017-06-07 16:10:44.000</td>\n",
       "      <td>2017-06-07 16:10:53.000000000</td>\n",
       "      <td>2017-06-07 16:11:08.000</td>\n",
       "      <td>2017-06-07 16:12:31.000</td>\n",
       "      <td>0 days 00:02:48</td>\n",
       "      <td>0 days 00:00:09</td>\n",
       "      <td>0 days 00:00:15</td>\n",
       "      <td>0 days 00:01:23</td>\n",
       "      <td>0 days 00:01:01</td>\n",
       "    </tr>\n",
       "    <tr>\n",
       "      <th>77733</th>\n",
       "      <td>9999729</td>\n",
       "      <td>834634258_21862004160</td>\n",
       "      <td>870243567_56915814033_814203</td>\n",
       "      <td>2017-05-08 16:09:40</td>\n",
       "      <td>2017-05-08 16:08:25.000</td>\n",
       "      <td>2017-05-08 16:08:30.000000000</td>\n",
       "      <td>2017-05-08 16:08:40.000</td>\n",
       "      <td>2017-05-08 16:09:19.000</td>\n",
       "      <td>0 days 00:01:15</td>\n",
       "      <td>0 days 00:00:05</td>\n",
       "      <td>0 days 00:00:10</td>\n",
       "      <td>0 days 00:00:39</td>\n",
       "      <td>0 days 00:00:21</td>\n",
       "    </tr>\n",
       "    <tr>\n",
       "      <th>77734</th>\n",
       "      <td>9999768</td>\n",
       "      <td>389637884_26725643037</td>\n",
       "      <td>85676722_11636430786_122704</td>\n",
       "      <td>2017-06-03 18:13:16</td>\n",
       "      <td>2017-06-03 18:08:41.000</td>\n",
       "      <td>2017-06-03 18:08:42.333333248</td>\n",
       "      <td>2017-06-03 18:08:55.000</td>\n",
       "      <td>2017-06-03 18:10:03.500</td>\n",
       "      <td>0 days 00:04:35</td>\n",
       "      <td>0 days 00:00:01.333333248</td>\n",
       "      <td>0 days 00:00:12.666666752</td>\n",
       "      <td>0 days 00:01:08.500000</td>\n",
       "      <td>0 days 00:03:12.500000</td>\n",
       "    </tr>\n",
       "    <tr>\n",
       "      <th>77735</th>\n",
       "      <td>9999839</td>\n",
       "      <td>948322592_28990736246</td>\n",
       "      <td>715530422_68620416793_515645</td>\n",
       "      <td>2017-03-29 12:13:03</td>\n",
       "      <td>2017-03-29 12:10:13.500</td>\n",
       "      <td>2017-03-29 12:11:35.000000000</td>\n",
       "      <td>2017-03-29 12:11:50.000</td>\n",
       "      <td>2017-03-29 12:12:28.000</td>\n",
       "      <td>0 days 00:02:49.500000</td>\n",
       "      <td>0 days 00:01:21.500000</td>\n",
       "      <td>0 days 00:00:15</td>\n",
       "      <td>0 days 00:00:38</td>\n",
       "      <td>0 days 00:00:35</td>\n",
       "    </tr>\n",
       "    <tr>\n",
       "      <th>77736</th>\n",
       "      <td>9999875</td>\n",
       "      <td>738878760_1556639849</td>\n",
       "      <td>931268933_219402947_599432</td>\n",
       "      <td>2017-06-01 22:48:39</td>\n",
       "      <td>2017-06-01 22:40:01.000</td>\n",
       "      <td>2017-06-01 22:40:48.000000000</td>\n",
       "      <td>2017-06-01 22:41:47.000</td>\n",
       "      <td>2017-06-01 22:44:58.000</td>\n",
       "      <td>0 days 00:08:38</td>\n",
       "      <td>0 days 00:00:47</td>\n",
       "      <td>0 days 00:00:59</td>\n",
       "      <td>0 days 00:03:11</td>\n",
       "      <td>0 days 00:03:41</td>\n",
       "    </tr>\n",
       "  </tbody>\n",
       "</table>\n",
       "<p>77737 rows × 13 columns</p>\n",
       "</div>"
      ],
      "text/plain": [
       "process_step  client_id             visitor_id                      visit_id  \\\n",
       "0                   169  201385055_71273495308  749567106_99161211863_557568   \n",
       "1                   546  475037402_89828530214    731811517_9330176838_94847   \n",
       "2                   555  402506806_56087378777  637149525_38041617439_716659   \n",
       "3                   647   66758770_53988066587   40369564_40101682850_311847   \n",
       "4                   722  919259913_64837298108  984487154_55831795985_521110   \n",
       "...                 ...                    ...                           ...   \n",
       "77732           9999451  663981185_93902283828  611106889_67993488256_946460   \n",
       "77733           9999729  834634258_21862004160  870243567_56915814033_814203   \n",
       "77734           9999768  389637884_26725643037   85676722_11636430786_122704   \n",
       "77735           9999839  948322592_28990736246  715530422_68620416793_515645   \n",
       "77736           9999875   738878760_1556639849    931268933_219402947_599432   \n",
       "\n",
       "process_step             confirm                   start  \\\n",
       "0            2017-04-12 20:23:09 2017-04-12 20:19:36.000   \n",
       "1            2017-06-17 10:05:42 2017-06-17 10:03:29.000   \n",
       "2            2017-04-15 13:00:34 2017-04-15 12:57:56.000   \n",
       "3            2017-04-12 15:47:45 2017-04-12 15:41:28.000   \n",
       "4            2017-04-19 15:00:09 2017-04-19 14:53:13.000   \n",
       "...                          ...                     ...   \n",
       "77732        2017-06-07 16:13:32 2017-06-07 16:10:44.000   \n",
       "77733        2017-05-08 16:09:40 2017-05-08 16:08:25.000   \n",
       "77734        2017-06-03 18:13:16 2017-06-03 18:08:41.000   \n",
       "77735        2017-03-29 12:13:03 2017-03-29 12:10:13.500   \n",
       "77736        2017-06-01 22:48:39 2017-06-01 22:40:01.000   \n",
       "\n",
       "process_step                        step_1                  step_2  \\\n",
       "0            2017-04-12 20:19:45.000000000 2017-04-12 20:20:31.000   \n",
       "1            2017-06-17 10:03:39.000000000 2017-06-17 10:03:52.000   \n",
       "2            2017-04-15 12:58:03.000000000 2017-04-15 12:58:35.000   \n",
       "3            2017-04-12 15:41:35.000000000 2017-04-12 15:41:53.000   \n",
       "4            2017-04-19 14:52:36.666666752 2017-04-19 14:53:46.500   \n",
       "...                                    ...                     ...   \n",
       "77732        2017-06-07 16:10:53.000000000 2017-06-07 16:11:08.000   \n",
       "77733        2017-05-08 16:08:30.000000000 2017-05-08 16:08:40.000   \n",
       "77734        2017-06-03 18:08:42.333333248 2017-06-03 18:08:55.000   \n",
       "77735        2017-03-29 12:11:35.000000000 2017-03-29 12:11:50.000   \n",
       "77736        2017-06-01 22:40:48.000000000 2017-06-01 22:41:47.000   \n",
       "\n",
       "process_step                  step_3         total_duration  \\\n",
       "0            2017-04-12 20:22:05.000        0 days 00:03:33   \n",
       "1            2017-06-17 10:05:19.000        0 days 00:02:13   \n",
       "2            2017-04-15 13:00:14.000        0 days 00:02:38   \n",
       "3            2017-04-12 15:45:02.000        0 days 00:06:17   \n",
       "4            2017-04-19 14:57:27.000        0 days 00:06:56   \n",
       "...                              ...                    ...   \n",
       "77732        2017-06-07 16:12:31.000        0 days 00:02:48   \n",
       "77733        2017-05-08 16:09:19.000        0 days 00:01:15   \n",
       "77734        2017-06-03 18:10:03.500        0 days 00:04:35   \n",
       "77735        2017-03-29 12:12:28.000 0 days 00:02:49.500000   \n",
       "77736        2017-06-01 22:44:58.000        0 days 00:08:38   \n",
       "\n",
       "process_step             start_to_step_1          step_1_to_step_2  \\\n",
       "0                        0 days 00:00:09           0 days 00:00:46   \n",
       "1                        0 days 00:00:10           0 days 00:00:13   \n",
       "2                        0 days 00:00:07           0 days 00:00:32   \n",
       "3                        0 days 00:00:07           0 days 00:00:18   \n",
       "4            -1 days +23:59:23.666666752 0 days 00:01:09.833333248   \n",
       "...                                  ...                       ...   \n",
       "77732                    0 days 00:00:09           0 days 00:00:15   \n",
       "77733                    0 days 00:00:05           0 days 00:00:10   \n",
       "77734          0 days 00:00:01.333333248 0 days 00:00:12.666666752   \n",
       "77735             0 days 00:01:21.500000           0 days 00:00:15   \n",
       "77736                    0 days 00:00:47           0 days 00:00:59   \n",
       "\n",
       "process_step       step_2_to_step_3      step_3_to_confirm  \n",
       "0                   0 days 00:01:34        0 days 00:01:04  \n",
       "1                   0 days 00:01:27        0 days 00:00:23  \n",
       "2                   0 days 00:01:39        0 days 00:00:20  \n",
       "3                   0 days 00:03:09        0 days 00:02:43  \n",
       "4            0 days 00:03:40.500000        0 days 00:02:42  \n",
       "...                             ...                    ...  \n",
       "77732               0 days 00:01:23        0 days 00:01:01  \n",
       "77733               0 days 00:00:39        0 days 00:00:21  \n",
       "77734        0 days 00:01:08.500000 0 days 00:03:12.500000  \n",
       "77735               0 days 00:00:38        0 days 00:00:35  \n",
       "77736               0 days 00:03:11        0 days 00:03:41  \n",
       "\n",
       "[77737 rows x 13 columns]"
      ]
     },
     "metadata": {},
     "output_type": "display_data"
    }
   ],
   "source": [
    "df_footprint.sort_values(by='client_id')\n",
    "\n",
    "\n",
    "\n",
    "# Pivot the DataFrame\n",
    "pivot_df = df_footprint.pivot_table(index=['client_id', 'visitor_id', 'visit_id'], \n",
    "                                    columns='process_step', \n",
    "                                    values='date_time')\n",
    "\n",
    "# Calculate duration for the entire process\n",
    "pivot_df['total_duration'] = pivot_df['confirm'] - pivot_df['start']\n",
    "\n",
    "# Drop rows with NaT values in any of the important steps\n",
    "pivot_df = pivot_df.dropna(subset=['start', 'step_1', 'step_2', 'step_3', 'confirm'])\n",
    "\n",
    "# Calculate duration for each step\n",
    "pivot_df['start_to_step_1'] = pivot_df['step_1'] - pivot_df['start']\n",
    "pivot_df['step_1_to_step_2'] = pivot_df['step_2'] - pivot_df['step_1']\n",
    "pivot_df['step_2_to_step_3'] = pivot_df['step_3'] - pivot_df['step_2']\n",
    "pivot_df['step_3_to_confirm'] = pivot_df['confirm'] - pivot_df['step_3']\n",
    "\n",
    "\n",
    "# Reset index to have a flat DataFrame\n",
    "result = pivot_df.reset_index()\n",
    "\n",
    "display(result)"
   ]
  },
  {
   "cell_type": "code",
   "execution_count": 92,
   "id": "b7969ce4-72bf-46fb-91ef-66a06023aaa9",
   "metadata": {},
   "outputs": [
    {
     "data": {
      "text/plain": [
       "client_id       0\n",
       "visitor_id      0\n",
       "visit_id        0\n",
       "process_step    0\n",
       "date_time       0\n",
       "dtype: int64"
      ]
     },
     "execution_count": 92,
     "metadata": {},
     "output_type": "execute_result"
    }
   ],
   "source": [
    "df_footprint.isnull().sum().sort_values(ascending=False)"
   ]
  },
  {
   "cell_type": "code",
   "execution_count": null,
   "id": "d5028dc9-c8c6-46fc-8a4e-70e5eed995d6",
   "metadata": {},
   "outputs": [],
   "source": []
  },
  {
   "cell_type": "code",
   "execution_count": 93,
   "id": "33306ca6-a691-441b-91a9-f53288c5a14f",
   "metadata": {},
   "outputs": [
    {
     "data": {
      "text/plain": [
       "Index(['client_id', 'visitor_id', 'visit_id', 'process_step', 'date_time'], dtype='object')"
      ]
     },
     "execution_count": 93,
     "metadata": {},
     "output_type": "execute_result"
    }
   ],
   "source": [
    "df_footprint.columns"
   ]
  },
  {
   "cell_type": "code",
   "execution_count": 121,
   "id": "66cf5d8a-ae88-4544-b2a4-9621db574c8a",
   "metadata": {},
   "outputs": [
    {
     "data": {
      "text/plain": [
       "Variation\n",
       "Test       0.953797\n",
       "Control    0.743881\n",
       "Name: count, dtype: float64"
      ]
     },
     "metadata": {},
     "output_type": "display_data"
    }
   ],
   "source": [
    "## compare this results with probability tests \n",
    "## Variation\n",
    "## est       0.953797\n",
    "## Control    0.743881\n",
    "\n",
    "# Merge df_footprint and df_roster on client_id\n",
    "merged_df = pd.merge(df_footprint, df_roster, on='client_id')\n",
    "\n",
    "# Filter rows where process_step is 'confirm'\n",
    "confirm_df = merged_df[logons_6_mnth       float64\n",
    "dtype: object\n",
    "df_footprint.columns\n",
    "Index(['client_id', 'visitor_id', 'visit_id', 'process_step', 'date_time'], dtype='object')\n",
    "Selection deleted\n",
    "merged_df['process_step'] == 'confirm']\n",
    "\n",
    "# Calculate the number of users in each group\n",
    "total_users = df_roster['Variation'].value_counts()\n",
    "\n",
    "# Calculate the number of users who reached the 'confirm' step in each group\n",
    "confirm_users = confirm_df['Variation'].value_counts()\n",
    "\n",
    "# Calculate the proportion of users who reached the 'confirm' step in each group\n",
    "proportion_confirm = confirm_users / total_users\n",
    "\n",
    "# Display the result\n",
    "display(proportion_confirm)"
   ]
  },
  {
   "cell_type": "markdown",
   "id": "cb6d12b1-b71d-404f-b856-b4b6d6097992",
   "metadata": {},
   "source": [
    "## Client behavior analysis\r\n",
    "\r\n",
    "Client behavior analysis\r\n",
    "Answer the following questions about demographics:\r\n",
    "\r\n",
    "Who are the primary clients using this online process?\r\n",
    "Are the primary clients younger or older, new or long-standing?"
   ]
  },
  {
   "cell_type": "code",
   "execution_count": 94,
   "id": "722ec2fe-47af-4840-b039-b7a1126994b4",
   "metadata": {},
   "outputs": [],
   "source": [
    "## use heatmap or stackedbar chart if your info is categorical vs categorical"
   ]
  },
  {
   "cell_type": "code",
   "execution_count": 97,
   "id": "d383e0ed-3318-45aa-aee3-444e92dd883d",
   "metadata": {},
   "outputs": [
    {
     "data": {
      "text/plain": [
       "(49.0, 50.0, 58.5)"
      ]
     },
     "execution_count": 97,
     "metadata": {},
     "output_type": "execute_result"
    }
   ],
   "source": [
    "mean_age = df_profile['clnt_age'].mean()\n",
    "median_age = df_profile['clnt_age'].median()\n",
    "mode_age = df_profile['clnt_age'].mode()[0]\n",
    "\n",
    "mean_age.round(), median_age, mode_age"
   ]
  },
  {
   "cell_type": "code",
   "execution_count": 98,
   "id": "7aa2b00c-ad89-481d-8367-1d057fe7999c",
   "metadata": {},
   "outputs": [
    {
     "ename": "NameError",
     "evalue": "name 'max_price' is not defined",
     "output_type": "error",
     "traceback": [
      "\u001b[1;31m---------------------------------------------------------------------------\u001b[0m",
      "\u001b[1;31mNameError\u001b[0m                                 Traceback (most recent call last)",
      "Cell \u001b[1;32mIn[98], line 5\u001b[0m\n\u001b[0;32m      3\u001b[0m min_age \u001b[38;5;241m=\u001b[39m df_profile[\u001b[38;5;124m'\u001b[39m\u001b[38;5;124mclnt_age\u001b[39m\u001b[38;5;124m'\u001b[39m]\u001b[38;5;241m.\u001b[39mmin()\n\u001b[0;32m      4\u001b[0m max_age \u001b[38;5;241m=\u001b[39m df_profile[\u001b[38;5;124m'\u001b[39m\u001b[38;5;124mclnt_age\u001b[39m\u001b[38;5;124m'\u001b[39m]\u001b[38;5;241m.\u001b[39mmax()\n\u001b[1;32m----> 5\u001b[0m range_age \u001b[38;5;241m=\u001b[39m \u001b[43mmax_price\u001b[49m \u001b[38;5;241m-\u001b[39m min_price\n\u001b[0;32m      6\u001b[0m quantiles_age \u001b[38;5;241m=\u001b[39m df_profile[\u001b[38;5;124m'\u001b[39m\u001b[38;5;124mclnt_age\u001b[39m\u001b[38;5;124m'\u001b[39m]\u001b[38;5;241m.\u001b[39mquantile([\u001b[38;5;241m0.25\u001b[39m, \u001b[38;5;241m0.5\u001b[39m, \u001b[38;5;241m0.75\u001b[39m])\n\u001b[0;32m      8\u001b[0m variance_age , std_dev_age , min_age , max_age , range_age , quantiles_age \n",
      "\u001b[1;31mNameError\u001b[0m: name 'max_price' is not defined"
     ]
    }
   ],
   "source": [
    "variance_age = df_profile['clnt_age'].var()\n",
    "std_dev_age = df_profile['clnt_age'].std()\n",
    "min_age = df_profile['clnt_age'].min()\n",
    "max_age = df_profile['clnt_age'].max()\n",
    "range_age = max_price - min_price\n",
    "quantiles_age = df_profile['clnt_age'].quantile([0.25, 0.5, 0.75])\n",
    "\n",
    "variance_age , std_dev_age , min_age , max_age , range_age , quantiles_age "
   ]
  },
  {
   "cell_type": "code",
   "execution_count": 99,
   "id": "f54eaf60-dd94-4d33-93b6-5ca3857e8c2f",
   "metadata": {},
   "outputs": [
    {
     "data": {
      "text/plain": [
       "clnt_age\n",
       "58.5    620\n",
       "57.5    608\n",
       "53.0    597\n",
       "55.5    596\n",
       "52.5    584\n",
       "       ... \n",
       "93.5      3\n",
       "93.0      2\n",
       "96.0      1\n",
       "95.5      1\n",
       "14.0      1\n",
       "Name: count, Length: 162, dtype: int64"
      ]
     },
     "execution_count": 99,
     "metadata": {},
     "output_type": "execute_result"
    }
   ],
   "source": [
    "# Frequency table for 'category'\n",
    "frequency_table = df_profile[\"clnt_age\"].value_counts()\n",
    "frequency_table\n"
   ]
  },
  {
   "cell_type": "code",
   "execution_count": 100,
   "id": "5123261f-3ccb-4390-a91b-ca2976872647",
   "metadata": {},
   "outputs": [
    {
     "data": {
      "text/plain": [
       "clnt_age\n",
       "58.5    0.013342\n",
       "57.5    0.013084\n",
       "53.0    0.012847\n",
       "55.5    0.012826\n",
       "52.5    0.012568\n",
       "          ...   \n",
       "93.5    0.000065\n",
       "93.0    0.000043\n",
       "96.0    0.000022\n",
       "95.5    0.000022\n",
       "14.0    0.000022\n",
       "Name: proportion, Length: 162, dtype: float64"
      ]
     },
     "execution_count": 100,
     "metadata": {},
     "output_type": "execute_result"
    }
   ],
   "source": [
    "# Calculating the proportion of each unique value in the 'category'\n",
    "proportion_table = df_profile[\"clnt_age\"].value_counts(normalize=True)\n",
    "proportion_table"
   ]
  },
  {
   "cell_type": "code",
   "execution_count": 101,
   "id": "06be4861-8692-4416-91df-975027564293",
   "metadata": {},
   "outputs": [
    {
     "data": {
      "text/plain": [
       "gendr\n",
       "M    23724\n",
       "F    22746\n",
       "Name: count, dtype: int64"
      ]
     },
     "execution_count": 101,
     "metadata": {},
     "output_type": "execute_result"
    }
   ],
   "source": [
    "frequency_table = df_profile[\"gendr\"].value_counts()\n",
    "frequency_table"
   ]
  },
  {
   "cell_type": "code",
   "execution_count": 102,
   "id": "ccfa84d8-dfbb-4eec-9578-86376ee0737f",
   "metadata": {},
   "outputs": [
    {
     "data": {
      "text/plain": [
       "gendr\n",
       "M    0.510523\n",
       "F    0.489477\n",
       "Name: proportion, dtype: float64"
      ]
     },
     "execution_count": 102,
     "metadata": {},
     "output_type": "execute_result"
    }
   ],
   "source": [
    "proportion_table = df_profile[\"gendr\"].value_counts(normalize=True)\n",
    "proportion_table"
   ]
  },
  {
   "cell_type": "code",
   "execution_count": null,
   "id": "c2595583-d348-4f75-ad4e-8682a9e9b74b",
   "metadata": {},
   "outputs": [],
   "source": []
  },
  {
   "cell_type": "code",
   "execution_count": 103,
   "id": "45e77d47-ebb9-47dc-879e-74e88a98873f",
   "metadata": {},
   "outputs": [
    {
     "name": "stdout",
     "output_type": "stream",
     "text": [
      "Gender counts:\n",
      "gendr\n",
      "M    23724\n",
      "F    22746\n",
      "Name: count, dtype: int64\n",
      "There are more men.\n",
      "The average age of the clients is 49.04176978200521 years.\n",
      "The primary clients are older.\n",
      "The average tenure of the clients is 361.9671400903809 months.\n",
      "The primary clients are new.\n"
     ]
    }
   ],
   "source": [
    "# Count the number of men and women\n",
    "gender_counts = df_profile['gendr'].value_counts()\n",
    "print(f\"Gender counts:\\n{gender_counts}\")\n",
    "\n",
    "# Check if there are more men or women\n",
    "if gender_counts['M'] > gender_counts['F']:\n",
    "    print(\"There are more men.\")\n",
    "elif gender_counts['M'] < gender_counts['F']:\n",
    "    print(\"There are more women.\")\n",
    "else:\n",
    "    print(\"The number of men and women is the same.\")\n",
    "\n",
    "# Calculate the average age\n",
    "average_age = df_profile['clnt_age'].mean()\n",
    "print(f\"The average age of the clients is {average_age} years.\")\n",
    "\n",
    "# Check if the primary clients are younger or older\n",
    "if average_age < df_profile['clnt_age'].max()/2:\n",
    "    print(\"The primary clients are younger.\")\n",
    "else:\n",
    "    print(\"The primary clients are older.\")\n",
    "\n",
    "# Calculate the average tenure in months\n",
    "average_tenure = df_profile['clnt_tenure_yr']*12 + df_profile['clnt_tenure_mnth']\n",
    "print(f\"The average tenure of the clients is {average_tenure.mean()} months.\")\n",
    "\n",
    "# Check if the primary clients are new or long-standing\n",
    "if average_tenure.mean() < df_profile['clnt_tenure_yr'].max()*12/2:\n",
    "    print(\"The primary clients are new.\")\n",
    "else:\n",
    "    print(\"The primary clients are long-standing.\")"
   ]
  },
  {
   "cell_type": "code",
   "execution_count": 104,
   "id": "4ae40050-bfd8-48a0-ab9b-89870cfc8d56",
   "metadata": {},
   "outputs": [
    {
     "data": {
      "text/plain": [
       "' Deliverables\\nYou must submit the following deliverables in order for the project to be deemed complete:\\n\\nA new repository with the name vanguard-ab-test on your GitHub account.\\nWorking code that meets all technical requirements, built by you.\\nAt least 1 Jupyter notebook is required\\nInclude your functions in .py files\\nAdditional needed files for your work, such as a Tableau file\\nA README with the completed project documentation.\\nThe URL of the slides for your project presentation.\\nPresentation: When presenting your work, there are many important factors to consider, such as the content of your presentation and the way you deliver it.\\nRemember to allow time to rehearse the presentation beforehand.\\nSee “Presentation” section below for guidelines.\\nPaste your own repository’s link in the Student Portal Project Activity.\\nNote: Each student should have their own repository to submit.\\nLinks to the data you are using (sources) and your Kanban board (Trello) in the README '"
      ]
     },
     "execution_count": 104,
     "metadata": {},
     "output_type": "execute_result"
    }
   ],
   "source": [
    "\"\"\" Deliverables\n",
    "You must submit the following deliverables in order for the project to be deemed complete:\n",
    "\n",
    "A new repository with the name vanguard-ab-test on your GitHub account.\n",
    "Working code that meets all technical requirements, built by you.\n",
    "At least 1 Jupyter notebook is required\n",
    "Include your functions in .py files\n",
    "Additional needed files for your work, such as a Tableau file\n",
    "A README with the completed project documentation.\n",
    "The URL of the slides for your project presentation.\n",
    "Presentation: When presenting your work, there are many important factors to consider, such as the content of your presentation and the way you deliver it.\n",
    "Remember to allow time to rehearse the presentation beforehand.\n",
    "See “Presentation” section below for guidelines.\n",
    "Paste your own repository’s link in the Student Portal Project Activity.\n",
    "Note: Each student should have their own repository to submit.\n",
    "Links to the data you are using (sources) and your Kanban board (Trello) in the README \"\"\""
   ]
  },
  {
   "cell_type": "code",
   "execution_count": 105,
   "id": "de4af214-6ac3-465f-9403-b884325ebb14",
   "metadata": {},
   "outputs": [
    {
     "ename": "SyntaxError",
     "evalue": "invalid character '‘' (U+2018) (48139516.py, line 5)",
     "output_type": "error",
     "traceback": [
      "\u001b[1;36m  Cell \u001b[1;32mIn[105], line 5\u001b[1;36m\u001b[0m\n\u001b[1;33m    For each group (Test and Control), calculate the number of users who reached the ‘confirm’ step and divide it by the total number of users in that group.\u001b[0m\n\u001b[1;37m                                                                                     ^\u001b[0m\n\u001b[1;31mSyntaxError\u001b[0m\u001b[1;31m:\u001b[0m invalid character '‘' (U+2018)\n"
     ]
    }
   ],
   "source": [
    "\"\" HINTS TO COMPLETE PROJECT \n",
    "\n",
    "Performance Metrics\n",
    "Completion Rate\n",
    "For each group (Test and Control), calculate the number of users who reached the ‘confirm’ step and divide it by the total number of users in that group.\n",
    "\n",
    "This gives us the proportion (or probability) of users completing the process.\n",
    "Mathematically, for the Test group, the completion rate is given by: \\[ \\text{Completion Rate (Test)} = \\frac{\\text{Number of 'Test' users reaching 'confirm'}}{\\text{Total 'Test' users}} \\]\n",
    "The same formula applies for the Control group. This is a direct application of probability where we determine the likelihood of an event (completion) occurring.\n",
    "Time Spent on Each Step\n",
    "To calculate the Time Spent on Each Step, determine the time difference between each step for each visit and then calculate the average duration users spend on each step before moving to the next. The result will provide insights into the average time users of both the Test (new design) and Control (old design) groups spend on each of the process steps.\n",
    "\n",
    "For each visit calculate the time difference between consecutive steps.\n",
    "Then average these time differences for each step across all visits.\n",
    "This does not directly use probability, but averages (or means) to understand typical user behavior.\n",
    "Error Rates KPI\n",
    "To address the Error Rates KPI, one approach is to identify instances where users go back to a previous step, suggesting possible confusion or an error.\n",
    "\n",
    "Calculate the error rates by identifying these instances. Consider moving from a later step to an earlier one as an error.\n",
    "\n",
    "For each group, the error rate is calculated as the proportion of these “error” instances to the total number of steps taken.\n",
    "\n",
    "This is another application of probability, where you determine the likelihood of an error occurring.\n",
    "\n",
    "Mathematically, for the Test group, the error rate is given by:\n",
    "\n",
    "\\[ \\text{Error Rate (Test)} = \\frac{\\text{Number of 'backward' steps taken by 'Test' users}}{\\text{Total steps taken by 'Test' users}} \\]\n",
    "\n",
    "The same formula applies for the Control group.\n",
    "\n",
    "Hypothesis Testing\n",
    "Completion Rate\n",
    "Hypothesis\n",
    "\n",
    "Null Hypothesis (\\(H_0\\))): The completion rate for the Test group (new design) is equal to the completion rate for the Control group (old design).\n",
    "Alternative Hypothesis (\\(H_a\\))): The completion rate for the Test group (new design) is not equal to the completion rate for the Control group (old design).\n",
    "To test this hypothesis, you will use a two-proportion z-test. This test is appropriate when comparing proportions (like completion rates) between two groups.\n",
    "\n",
    "Completion Rate with a Cost-Effectiveness Threshold\n",
    "Null Hypothesis (\\(H_0\\)): The completion rate for the Test group (new design) is equal to or less than the completion rate for the Control group (old design) increased by 5%.\n",
    "Alternative Hypothesis (\\(H_a\\)): The completion rate for the Test group (new design) is greater than the completion rate for the Control group (old design) increased by 5%.\n",
    "Note: a one-sided two-proportion z-test is appropriate.\n",
    "\n",
    "Given the new threshold, you will compare the completion rate of the Test group to the completion rate of the Control group increased by 5%. \"\"\" "
   ]
  },
  {
   "cell_type": "code",
   "execution_count": 106,
   "id": "1b24a5ca-4908-43f0-99fa-6da60813bde6",
   "metadata": {},
   "outputs": [
    {
     "data": {
      "text/plain": [
       "' client_id: Every client’s unique ID.\\nvariation: Indicates if a client was part of the experiment.\\nvisitor_id: A unique ID for each client-device combination.\\nvisit_id: A unique ID for each web visit/session.\\nprocess_step: Marks each step in the digital process.\\ndate_time: Timestamp of each web activity.\\nclnt_tenure_yr: Represents how long the client has been with Vanguard, measured in years.\\nclnt_tenure_mnth: Further breaks down the client’s tenure with Vanguard in months.\\nclnt_age: Indicates the age of the client.\\ngendr: Specifies the client’s gender.\\nnum_accts: Denotes the number of accounts the client holds with Vanguard.\\nbal: Gives the total balance spread across all accounts for a particular client.\\ncalls_6_mnth: Records the number of times the client reached out over a call in the past six months.\\nlogons_6_mnth: Reflects the frequency with which the client logged onto Vanguard’s platform over the last six months '"
      ]
     },
     "execution_count": 106,
     "metadata": {},
     "output_type": "execute_result"
    }
   ],
   "source": [
    "\"\"\" client_id: Every client’s unique ID.\n",
    "variation: Indicates if a client was part of the experiment.\n",
    "visitor_id: A unique ID for each client-device combination.\n",
    "visit_id: A unique ID for each web visit/session.\n",
    "process_step: Marks each step in the digital process.\n",
    "date_time: Timestamp of each web activity.\n",
    "clnt_tenure_yr: Represents how long the client has been with Vanguard, measured in years.\n",
    "clnt_tenure_mnth: Further breaks down the client’s tenure with Vanguard in months.\n",
    "clnt_age: Indicates the age of the client.\n",
    "gendr: Specifies the client’s gender.\n",
    "num_accts: Denotes the number of accounts the client holds with Vanguard.\n",
    "bal: Gives the total balance spread across all accounts for a particular client.\n",
    "calls_6_mnth: Records the number of times the client reached out over a call in the past six months.\n",
    "logons_6_mnth: Reflects the frequency with which the client logged onto Vanguard’s platform over the last six months \"\"\""
   ]
  },
  {
   "cell_type": "markdown",
   "id": "0c16f2a7-5b4e-4c28-8aae-34177d1bd5fe",
   "metadata": {},
   "source": [
    "# KPI´s and Metrics"
   ]
  },
  {
   "cell_type": "markdown",
   "id": "98ff3eed-74cf-4a14-ab7a-e7ca8781ce57",
   "metadata": {},
   "source": [
    "## Completion Rate: This KPI measures the proportion of users who successfully complete the entire process, from the initial page to the confirmation page. A higher completion rate indicates that the new design is more effective. \n",
    "\n",
    "Time Spent on Each Step: Understanding the average duration users spend on each step provides insights into user engagement and potential bottlenecks. A decrease in the time spent on each step with the new design suggests improved efficiency and user experience.\n",
    "\n",
    "Error Rates: Errors such as users going back to a previous step or encountering validation issues indicate confusion or difficulty in progressing through the process. A lower error rate with the new design suggests clearer navigation and reduced user frustration."
   ]
  },
  {
   "cell_type": "markdown",
   "id": "b90e1da5-4c31-4c50-a5c6-2cc47d411a33",
   "metadata": {},
   "source": [
    "# Hypothesis Testing"
   ]
  },
  {
   "cell_type": "markdown",
   "id": "5df63b35-278d-4ef3-b7b6-fb27c935424d",
   "metadata": {},
   "source": [
    "## completion rate between the Test and Control groups"
   ]
  },
  {
   "cell_type": "code",
   "execution_count": 107,
   "id": "9e8b123d-3492-4e72-b02d-87cb581ac311",
   "metadata": {},
   "outputs": [
    {
     "data": {
      "text/plain": [
       "' revisar nan values, usar fillna '"
      ]
     },
     "execution_count": 107,
     "metadata": {},
     "output_type": "execute_result"
    }
   ],
   "source": [
    "\"\"\" revisar nan values, usar fillna \"\"\""
   ]
  },
  {
   "cell_type": "code",
   "execution_count": 108,
   "id": "5e607576-405b-461b-a2f0-c5a150a547fd",
   "metadata": {},
   "outputs": [
    {
     "name": "stdout",
     "output_type": "stream",
     "text": [
      "Fail to reject the null hypothesis. There is no significant difference in completion rates between the Test and Control groups.\n"
     ]
    },
    {
     "name": "stderr",
     "output_type": "stream",
     "text": [
      "C:\\Users\\Meli\\AppData\\Local\\Temp\\ipykernel_18404\\237276003.py:17: RuntimeWarning: invalid value encountered in sqrt\n",
      "  SE = np.sqrt((completion_rate_test * (1 - completion_rate_test) / total_clients_test) +\n"
     ]
    }
   ],
   "source": [
    "# Calculate completion rates for Test and Control groups\n",
    "total_clients_test = df_roster[df_roster['Variation'] == 'Test']['client_id'].nunique()\n",
    "total_clients_control = df_roster[df_roster['Variation'] == 'Control']['client_id'].nunique()\n",
    "\n",
    "completed_test = df_footprint[df_footprint['process_step'] == 'confirm']\n",
    "completed_control = df_footprint[(df_footprint['process_step'] == 'confirm') & \n",
    "                                 (df_footprint['client_id'].isin(df_roster[df_roster['Variation'] == 'Control']['client_id']))]\n",
    "\n",
    "completion_rate_test = len(completed_test) / total_clients_test\n",
    "completion_rate_control = len(completed_control) / total_clients_control\n",
    "\n",
    "# Check for NaN or zero values in completion rates\n",
    "if np.isnan(completion_rate_test) or np.isnan(completion_rate_control) or total_clients_test == 0 or total_clients_control == 0:\n",
    "    print(\"Error: Unable to calculate completion rates.\")\n",
    "else:\n",
    "    # Calculate the standard error of the difference between completion rates\n",
    "    SE = np.sqrt((completion_rate_test * (1 - completion_rate_test) / total_clients_test) +\n",
    "                 (completion_rate_control * (1 - completion_rate_control) / total_clients_control))\n",
    "\n",
    "    # Calculate the z-score\n",
    "    z_score = (completion_rate_test - completion_rate_control) / SE\n",
    "\n",
    "    # Calculate the p-value\n",
    "    p_value = 2 * (1 - norm.cdf(abs(z_score)))  # Multiply by 2 for a two-tailed test\n",
    "\n",
    "    # Set significance level\n",
    "    alpha = 0.05\n",
    "\n",
    "    # Compare p-value to alpha\n",
    "    if p_value < alpha:\n",
    "        print(\"Reject the null hypothesis. The completion rate in the Test group is significantly higher than the Control group.\")\n",
    "    else:\n",
    "        print(\"Fail to reject the null hypothesis. There is no significant difference in completion rates between the Test and Control groups.\")"
   ]
  },
  {
   "cell_type": "markdown",
   "id": "d1aefe96-00bc-4ec8-a07f-9cadba290066",
   "metadata": {},
   "source": [
    "## Completion Rate with a Cost-Effectiveness Threshold"
   ]
  },
  {
   "cell_type": "code",
   "execution_count": 109,
   "id": "08bd8b53-16e9-44de-8f89-e04710025b16",
   "metadata": {},
   "outputs": [
    {
     "name": "stdout",
     "output_type": "stream",
     "text": [
      "The observed increase in completion rate meets or exceeds the 5% threshold. The new design is deemed cost-effective.\n",
      "Completion Rate (Test Group): 381.80%\n",
      "Completion Rate (Control Group): 74.39%\n",
      "Difference in Completion Rates: 307.41%\n",
      "Percentage Increase in Completion Rate: 413.25%\n"
     ]
    }
   ],
   "source": [
    "# Calculate completion rates for Test and Control groups\n",
    "completion_rate_test = len(completed_test) / total_clients_test\n",
    "completion_rate_control = len(completed_control) / total_clients_control\n",
    "\n",
    "# Calculate the difference in completion rates\n",
    "completion_rate_difference = completion_rate_test - completion_rate_control\n",
    "\n",
    "# Calculate the percentage increase in completion rate\n",
    "percentage_increase = completion_rate_difference / completion_rate_control * 100\n",
    "\n",
    "# Check if the percentage increase meets or exceeds the 5% threshold\n",
    "if percentage_increase >= 5:\n",
    "    print(f\"The observed increase in completion rate meets or exceeds the 5% threshold. The new design is deemed cost-effective.\")\n",
    "else:\n",
    "    print(f\"The observed increase in completion rate does not meet the 5% threshold. The new design may not be deemed cost-effective.\")\n",
    "\n",
    "# Display the calculated completion rates, difference, and percentage increase\n",
    "print(f\"Completion Rate (Test Group): {completion_rate_test:.2%}\")\n",
    "print(f\"Completion Rate (Control Group): {completion_rate_control:.2%}\")\n",
    "print(f\"Difference in Completion Rates: {completion_rate_difference:.2%}\")\n",
    "print(f\"Percentage Increase in Completion Rate: {percentage_increase:.2f}%\")\n",
    "\n"
   ]
  },
  {
   "cell_type": "markdown",
   "id": "a28c069e-4ee2-4076-88ec-c28276c06f99",
   "metadata": {},
   "source": [
    "## Other Hypothesis"
   ]
  },
  {
   "cell_type": "markdown",
   "id": "285d91e6-6149-4f27-b44f-b71d4cd46412",
   "metadata": {},
   "source": [
    "## test whether the average age of clients engaging with the new process is the same as those engaging with the old process"
   ]
  },
  {
   "cell_type": "code",
   "execution_count": 113,
   "id": "a026dbbe-822d-4a8a-915f-7c2ba1902f27",
   "metadata": {},
   "outputs": [
    {
     "name": "stdout",
     "output_type": "stream",
     "text": [
      "Reject the null hypothesis. There is a statistically significant difference in the average age between clients engaging with the new and old processes. p-value: 0.0153\n"
     ]
    }
   ],
   "source": [
    "from scipy.stats import ttest_ind\n",
    "\n",
    "# Define Test and Control groups based on clients engaging with the new and old processes\n",
    "test_group = df_profile[df_profile['client_id'].isin(df_roster[df_roster['Variation'] == 'Test']['client_id'])]['clnt_age']\n",
    "control_group = df_profile[df_profile['client_id'].isin(df_roster[df_roster['Variation'] == 'Control']['client_id'])]['clnt_age']\n",
    "\n",
    "# Check for and remove any NaN values in age groups (if any)\n",
    "test_group = test_group.dropna()\n",
    "control_group = control_group.dropna()\n",
    "\n",
    "# Ensure both groups are not empty and contain numerical data\n",
    "if test_group.empty or control_group.empty:\n",
    "    print(\"One of the groups is empty. Cannot perform t-test.\")\n",
    "else:\n",
    "    # Perform two-sample t-test\n",
    "    t_statistic, p_value = ttest_ind(test_group, control_group, equal_var=False)\n",
    "\n",
    "    # Set significance level\n",
    "    alpha = 0.05\n",
    "\n",
    "    # Compare p-value to alpha\n",
    "    if p_value < alpha:\n",
    "        print(f\"Reject the null hypothesis. There is a statistically significant difference in the average age between clients engaging with the new and old processes. p-value: {p_value:.4f}\")\n",
    "    else:\n",
    "        print(f\"Fail to reject the null hypothesis. The average age of clients engaging with the new process is not significantly different from those engaging with the old process. p-value: {p_value:.4f}\")"
   ]
  },
  {
   "cell_type": "markdown",
   "id": "c9b172ed-8817-428d-bcc9-f1c02825614f",
   "metadata": {},
   "source": [
    "## test if the average client tenure (how long they’ve been with Vanguard) of those engaging with the new process is the same as those engaging with the old process"
   ]
  },
  {
   "cell_type": "code",
   "execution_count": 36,
   "id": "f238b920-2c68-4f69-a99b-3c55fb731627",
   "metadata": {},
   "outputs": [
    {
     "name": "stdout",
     "output_type": "stream",
     "text": [
      "Average Client Tenure (Test Group): 11.98 years\n",
      "Average Client Tenure (Control Group): 12.09 years\n",
      "Fail to reject the null hypothesis. The average client tenure of those engaging with the new process is not significantly different from those engaging with the old process.\n"
     ]
    }
   ],
   "source": [
    "# Calculate average client tenure for Test and Control groups\n",
    "average_tenure_test = test_group_tenure.mean()\n",
    "average_tenure_control = control_group_tenure.mean()\n",
    "\n",
    "# Display average client tenure for Test and Control groups\n",
    "print(f\"Average Client Tenure (Test Group): {average_tenure_test:.2f} years\")\n",
    "print(f\"Average Client Tenure (Control Group): {average_tenure_control:.2f} years\")\n",
    "\n",
    "# Perform hypothesis test\n",
    "if p_value_tenure < alpha_tenure:\n",
    "    print(\"Reject the null hypothesis. There is a statistically significant difference in the average client tenure between clients engaging with the new and old processes.\")\n",
    "else:\n",
    "    print(\"Fail to reject the null hypothesis. The average client tenure of those engaging with the new process is not significantly different from those engaging with the old process.\")\n"
   ]
  },
  {
   "cell_type": "code",
   "execution_count": null,
   "id": "d655f604-b3e7-4a65-b107-e0f6037a985d",
   "metadata": {},
   "outputs": [],
   "source": []
  },
  {
   "cell_type": "code",
   "execution_count": null,
   "id": "88473e9f-9eaa-4c0d-b698-626d7e352e9d",
   "metadata": {},
   "outputs": [],
   "source": []
  },
  {
   "cell_type": "code",
   "execution_count": null,
   "id": "5d33b60c-841e-4a2b-9ada-9b4aa1329b93",
   "metadata": {},
   "outputs": [],
   "source": []
  },
  {
   "cell_type": "code",
   "execution_count": null,
   "id": "761ee329-85af-462d-8b0f-cf5454286bd1",
   "metadata": {},
   "outputs": [],
   "source": []
  },
  {
   "cell_type": "code",
   "execution_count": null,
   "id": "f9fcc1f9-1b2a-4416-909b-f5202838a0da",
   "metadata": {},
   "outputs": [],
   "source": []
  },
  {
   "cell_type": "code",
   "execution_count": null,
   "id": "d56ae0b3-945b-46ce-a3d8-cfa3f0e3668d",
   "metadata": {},
   "outputs": [],
   "source": []
  },
  {
   "cell_type": "code",
   "execution_count": null,
   "id": "0f161fad-dc17-44ab-bb2b-26f82570f94e",
   "metadata": {},
   "outputs": [],
   "source": []
  },
  {
   "cell_type": "code",
   "execution_count": null,
   "id": "14998983-b8e1-49ea-bcdd-7dd85cf54125",
   "metadata": {},
   "outputs": [],
   "source": []
  },
  {
   "cell_type": "code",
   "execution_count": null,
   "id": "7ab1e22f-1fb8-4fb6-a4c0-dc82d45ee3fb",
   "metadata": {},
   "outputs": [],
   "source": []
  },
  {
   "cell_type": "code",
   "execution_count": null,
   "id": "0ba373cf-6e10-4d72-ba1d-49a5fabd05e5",
   "metadata": {},
   "outputs": [],
   "source": []
  },
  {
   "cell_type": "code",
   "execution_count": null,
   "id": "a9e26748-c6c5-4708-b326-d751bb1826bb",
   "metadata": {},
   "outputs": [],
   "source": []
  },
  {
   "cell_type": "code",
   "execution_count": null,
   "id": "594d66a1-c281-4cea-b6ee-9da97993b277",
   "metadata": {},
   "outputs": [],
   "source": []
  },
  {
   "cell_type": "code",
   "execution_count": null,
   "id": "b3ee3e2e-227d-4791-b4c3-ccddc7dbc6e2",
   "metadata": {},
   "outputs": [],
   "source": []
  },
  {
   "cell_type": "code",
   "execution_count": null,
   "id": "9c0e1087-64a7-4297-9eb9-309a5431de58",
   "metadata": {},
   "outputs": [],
   "source": []
  },
  {
   "cell_type": "code",
   "execution_count": null,
   "id": "9bae130a-967d-485a-a4c6-f478c001bf5f",
   "metadata": {},
   "outputs": [],
   "source": []
  },
  {
   "cell_type": "code",
   "execution_count": null,
   "id": "59f443e6-39aa-4b88-8744-60edcacb05c8",
   "metadata": {},
   "outputs": [],
   "source": []
  },
  {
   "cell_type": "code",
   "execution_count": null,
   "id": "c174db9a-d92a-4c65-8be9-f4baa023a00c",
   "metadata": {},
   "outputs": [],
   "source": []
  }
 ],
 "metadata": {
  "kernelspec": {
   "display_name": "m2_venv",
   "language": "python",
   "name": "m2_venv"
  },
  "language_info": {
   "codemirror_mode": {
    "name": "ipython",
    "version": 3
   },
   "file_extension": ".py",
   "mimetype": "text/x-python",
   "name": "python",
   "nbconvert_exporter": "python",
   "pygments_lexer": "ipython3",
   "version": "3.11.7"
  }
 },
 "nbformat": 4,
 "nbformat_minor": 5
}
