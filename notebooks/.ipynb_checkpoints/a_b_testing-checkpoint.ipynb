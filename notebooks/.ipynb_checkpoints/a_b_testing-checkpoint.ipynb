{
 "cells": [
  {
   "cell_type": "code",
   "execution_count": 1,
   "id": "4c1ce149-db7b-46eb-9d6b-140a9f1c28d6",
   "metadata": {},
   "outputs": [],
   "source": [
    "import pandas as pd\n",
    "import matplotlib.pyplot as plt\n",
    "import seaborn as sns\n",
    "import numpy as np\n",
    "from scipy.stats import norm\n",
    "\n",
    "%matplotlib inline"
   ]
  },
  {
   "cell_type": "code",
   "execution_count": 2,
   "id": "4670a3d7-30d9-415f-9e61-5cc8c5888aa4",
   "metadata": {
    "scrolled": true
   },
   "outputs": [
    {
     "data": {
      "text/html": [
       "<div>\n",
       "<style scoped>\n",
       "    .dataframe tbody tr th:only-of-type {\n",
       "        vertical-align: middle;\n",
       "    }\n",
       "\n",
       "    .dataframe tbody tr th {\n",
       "        vertical-align: top;\n",
       "    }\n",
       "\n",
       "    .dataframe thead th {\n",
       "        text-align: right;\n",
       "    }\n",
       "</style>\n",
       "<table border=\"1\" class=\"dataframe\">\n",
       "  <thead>\n",
       "    <tr style=\"text-align: right;\">\n",
       "      <th></th>\n",
       "      <th>client_id</th>\n",
       "      <th>clnt_tenure_yr</th>\n",
       "      <th>clnt_tenure_mnth</th>\n",
       "      <th>clnt_age</th>\n",
       "      <th>gendr</th>\n",
       "      <th>num_accts</th>\n",
       "      <th>bal</th>\n",
       "      <th>calls_6_mnth</th>\n",
       "      <th>logons_6_mnth</th>\n",
       "    </tr>\n",
       "  </thead>\n",
       "  <tbody>\n",
       "    <tr>\n",
       "      <th>0</th>\n",
       "      <td>836976</td>\n",
       "      <td>6.0</td>\n",
       "      <td>73.0</td>\n",
       "      <td>60.5</td>\n",
       "      <td>U</td>\n",
       "      <td>2.0</td>\n",
       "      <td>45105.30</td>\n",
       "      <td>6.0</td>\n",
       "      <td>9.0</td>\n",
       "    </tr>\n",
       "    <tr>\n",
       "      <th>1</th>\n",
       "      <td>2304905</td>\n",
       "      <td>7.0</td>\n",
       "      <td>94.0</td>\n",
       "      <td>58.0</td>\n",
       "      <td>U</td>\n",
       "      <td>2.0</td>\n",
       "      <td>110860.30</td>\n",
       "      <td>6.0</td>\n",
       "      <td>9.0</td>\n",
       "    </tr>\n",
       "    <tr>\n",
       "      <th>2</th>\n",
       "      <td>1439522</td>\n",
       "      <td>5.0</td>\n",
       "      <td>64.0</td>\n",
       "      <td>32.0</td>\n",
       "      <td>U</td>\n",
       "      <td>2.0</td>\n",
       "      <td>52467.79</td>\n",
       "      <td>6.0</td>\n",
       "      <td>9.0</td>\n",
       "    </tr>\n",
       "    <tr>\n",
       "      <th>3</th>\n",
       "      <td>1562045</td>\n",
       "      <td>16.0</td>\n",
       "      <td>198.0</td>\n",
       "      <td>49.0</td>\n",
       "      <td>M</td>\n",
       "      <td>2.0</td>\n",
       "      <td>67454.65</td>\n",
       "      <td>3.0</td>\n",
       "      <td>6.0</td>\n",
       "    </tr>\n",
       "    <tr>\n",
       "      <th>4</th>\n",
       "      <td>5126305</td>\n",
       "      <td>12.0</td>\n",
       "      <td>145.0</td>\n",
       "      <td>33.0</td>\n",
       "      <td>F</td>\n",
       "      <td>2.0</td>\n",
       "      <td>103671.75</td>\n",
       "      <td>0.0</td>\n",
       "      <td>3.0</td>\n",
       "    </tr>\n",
       "    <tr>\n",
       "      <th>...</th>\n",
       "      <td>...</td>\n",
       "      <td>...</td>\n",
       "      <td>...</td>\n",
       "      <td>...</td>\n",
       "      <td>...</td>\n",
       "      <td>...</td>\n",
       "      <td>...</td>\n",
       "      <td>...</td>\n",
       "      <td>...</td>\n",
       "    </tr>\n",
       "    <tr>\n",
       "      <th>70604</th>\n",
       "      <td>7993686</td>\n",
       "      <td>4.0</td>\n",
       "      <td>56.0</td>\n",
       "      <td>38.5</td>\n",
       "      <td>U</td>\n",
       "      <td>3.0</td>\n",
       "      <td>1411062.68</td>\n",
       "      <td>5.0</td>\n",
       "      <td>5.0</td>\n",
       "    </tr>\n",
       "    <tr>\n",
       "      <th>70605</th>\n",
       "      <td>8981690</td>\n",
       "      <td>12.0</td>\n",
       "      <td>148.0</td>\n",
       "      <td>31.0</td>\n",
       "      <td>M</td>\n",
       "      <td>2.0</td>\n",
       "      <td>101867.07</td>\n",
       "      <td>6.0</td>\n",
       "      <td>6.0</td>\n",
       "    </tr>\n",
       "    <tr>\n",
       "      <th>70606</th>\n",
       "      <td>333913</td>\n",
       "      <td>16.0</td>\n",
       "      <td>198.0</td>\n",
       "      <td>61.5</td>\n",
       "      <td>F</td>\n",
       "      <td>2.0</td>\n",
       "      <td>40745.00</td>\n",
       "      <td>3.0</td>\n",
       "      <td>3.0</td>\n",
       "    </tr>\n",
       "    <tr>\n",
       "      <th>70607</th>\n",
       "      <td>1573142</td>\n",
       "      <td>21.0</td>\n",
       "      <td>255.0</td>\n",
       "      <td>68.0</td>\n",
       "      <td>M</td>\n",
       "      <td>3.0</td>\n",
       "      <td>475114.69</td>\n",
       "      <td>4.0</td>\n",
       "      <td>4.0</td>\n",
       "    </tr>\n",
       "    <tr>\n",
       "      <th>70608</th>\n",
       "      <td>5602139</td>\n",
       "      <td>21.0</td>\n",
       "      <td>254.0</td>\n",
       "      <td>59.5</td>\n",
       "      <td>F</td>\n",
       "      <td>3.0</td>\n",
       "      <td>157498.73</td>\n",
       "      <td>7.0</td>\n",
       "      <td>7.0</td>\n",
       "    </tr>\n",
       "  </tbody>\n",
       "</table>\n",
       "<p>70609 rows × 9 columns</p>\n",
       "</div>"
      ],
      "text/plain": [
       "       client_id  clnt_tenure_yr  clnt_tenure_mnth  clnt_age gendr  num_accts  \\\n",
       "0         836976             6.0              73.0      60.5     U        2.0   \n",
       "1        2304905             7.0              94.0      58.0     U        2.0   \n",
       "2        1439522             5.0              64.0      32.0     U        2.0   \n",
       "3        1562045            16.0             198.0      49.0     M        2.0   \n",
       "4        5126305            12.0             145.0      33.0     F        2.0   \n",
       "...          ...             ...               ...       ...   ...        ...   \n",
       "70604    7993686             4.0              56.0      38.5     U        3.0   \n",
       "70605    8981690            12.0             148.0      31.0     M        2.0   \n",
       "70606     333913            16.0             198.0      61.5     F        2.0   \n",
       "70607    1573142            21.0             255.0      68.0     M        3.0   \n",
       "70608    5602139            21.0             254.0      59.5     F        3.0   \n",
       "\n",
       "              bal  calls_6_mnth  logons_6_mnth  \n",
       "0        45105.30           6.0            9.0  \n",
       "1       110860.30           6.0            9.0  \n",
       "2        52467.79           6.0            9.0  \n",
       "3        67454.65           3.0            6.0  \n",
       "4       103671.75           0.0            3.0  \n",
       "...           ...           ...            ...  \n",
       "70604  1411062.68           5.0            5.0  \n",
       "70605   101867.07           6.0            6.0  \n",
       "70606    40745.00           3.0            3.0  \n",
       "70607   475114.69           4.0            4.0  \n",
       "70608   157498.73           7.0            7.0  \n",
       "\n",
       "[70609 rows x 9 columns]"
      ]
     },
     "execution_count": 2,
     "metadata": {},
     "output_type": "execute_result"
    }
   ],
   "source": [
    "df_profile = pd.read_csv(\"C:/Users/Meli/Desktop/Ironhack/Lab1/week5_project/data/df_final_demo.txt\")\n",
    "df_profile"
   ]
  },
  {
   "cell_type": "markdown",
   "id": "f5b7947c-783b-4f3a-ac3e-e155ba79cb76",
   "metadata": {},
   "source": [
    "# Data wrangling"
   ]
  },
  {
   "cell_type": "code",
   "execution_count": 3,
   "id": "931d739e-6edd-4dce-93f0-778d4ddff5ea",
   "metadata": {},
   "outputs": [
    {
     "data": {
      "text/plain": [
       "client_id             int64\n",
       "clnt_tenure_yr      float64\n",
       "clnt_tenure_mnth    float64\n",
       "clnt_age            float64\n",
       "gendr                object\n",
       "num_accts           float64\n",
       "bal                 float64\n",
       "calls_6_mnth        float64\n",
       "logons_6_mnth       float64\n",
       "dtype: object"
      ]
     },
     "execution_count": 3,
     "metadata": {},
     "output_type": "execute_result"
    }
   ],
   "source": [
    "df_profile.dtypes"
   ]
  },
  {
   "cell_type": "code",
   "execution_count": 4,
   "id": "a91f0a53-0191-4d30-a41b-e9e3313680dc",
   "metadata": {},
   "outputs": [
    {
     "data": {
      "text/plain": [
       "Index(['client_id', 'clnt_tenure_yr', 'clnt_tenure_mnth', 'clnt_age', 'gendr',\n",
       "       'num_accts', 'bal', 'calls_6_mnth', 'logons_6_mnth'],\n",
       "      dtype='object')"
      ]
     },
     "execution_count": 4,
     "metadata": {},
     "output_type": "execute_result"
    }
   ],
   "source": [
    "df_profile.columns"
   ]
  },
  {
   "cell_type": "code",
   "execution_count": 5,
   "id": "f79a4f25-933d-4a76-a33b-15ee58af2c82",
   "metadata": {},
   "outputs": [
    {
     "data": {
      "text/plain": [
       "0        U\n",
       "1        U\n",
       "2        U\n",
       "3        M\n",
       "4        F\n",
       "        ..\n",
       "70604    U\n",
       "70605    M\n",
       "70606    F\n",
       "70607    M\n",
       "70608    F\n",
       "Name: gendr, Length: 70609, dtype: object"
      ]
     },
     "execution_count": 5,
     "metadata": {},
     "output_type": "execute_result"
    }
   ],
   "source": [
    "df_profile[\"clnt_tenure_yr\"].fillna(0).astype(float)\n",
    "df_profile[\"clnt_tenure_mnth\"].fillna(0).astype(float)\n",
    "df_profile[\"clnt_age\"].fillna(0).astype(float)\n",
    "df_profile[\"num_accts\"].fillna(0).astype(float)\n",
    "df_profile[\"bal\"].fillna(0).astype(float)\n",
    "df_profile[\"calls_6_mnth\"].fillna(0).astype(float)\n",
    "df_profile[\"logons_6_mnth\"].fillna(0).astype(float)\n",
    "df_profile[\"client_id\"].fillna(0).astype(int)\n",
    "df_profile[\"gendr\"].fillna(\"Unknown\").astype(str)"
   ]
  },
  {
   "cell_type": "code",
   "execution_count": 6,
   "id": "a4995813-43fc-44d8-aa72-7f7707b4559f",
   "metadata": {},
   "outputs": [
    {
     "data": {
      "text/html": [
       "<div>\n",
       "<style scoped>\n",
       "    .dataframe tbody tr th:only-of-type {\n",
       "        vertical-align: middle;\n",
       "    }\n",
       "\n",
       "    .dataframe tbody tr th {\n",
       "        vertical-align: top;\n",
       "    }\n",
       "\n",
       "    .dataframe thead th {\n",
       "        text-align: right;\n",
       "    }\n",
       "</style>\n",
       "<table border=\"1\" class=\"dataframe\">\n",
       "  <thead>\n",
       "    <tr style=\"text-align: right;\">\n",
       "      <th></th>\n",
       "      <th>client_id</th>\n",
       "      <th>clnt_tenure_yr</th>\n",
       "      <th>clnt_tenure_mnth</th>\n",
       "      <th>clnt_age</th>\n",
       "      <th>gendr</th>\n",
       "      <th>num_accts</th>\n",
       "      <th>bal</th>\n",
       "      <th>calls_6_mnth</th>\n",
       "      <th>logons_6_mnth</th>\n",
       "    </tr>\n",
       "  </thead>\n",
       "  <tbody>\n",
       "    <tr>\n",
       "      <th>3</th>\n",
       "      <td>1562045</td>\n",
       "      <td>16.0</td>\n",
       "      <td>198.0</td>\n",
       "      <td>49.0</td>\n",
       "      <td>M</td>\n",
       "      <td>2.0</td>\n",
       "      <td>67454.65</td>\n",
       "      <td>3.0</td>\n",
       "      <td>6.0</td>\n",
       "    </tr>\n",
       "    <tr>\n",
       "      <th>4</th>\n",
       "      <td>5126305</td>\n",
       "      <td>12.0</td>\n",
       "      <td>145.0</td>\n",
       "      <td>33.0</td>\n",
       "      <td>F</td>\n",
       "      <td>2.0</td>\n",
       "      <td>103671.75</td>\n",
       "      <td>0.0</td>\n",
       "      <td>3.0</td>\n",
       "    </tr>\n",
       "    <tr>\n",
       "      <th>7</th>\n",
       "      <td>388801</td>\n",
       "      <td>30.0</td>\n",
       "      <td>361.0</td>\n",
       "      <td>57.5</td>\n",
       "      <td>M</td>\n",
       "      <td>5.0</td>\n",
       "      <td>522498.72</td>\n",
       "      <td>1.0</td>\n",
       "      <td>4.0</td>\n",
       "    </tr>\n",
       "    <tr>\n",
       "      <th>8</th>\n",
       "      <td>285619</td>\n",
       "      <td>30.0</td>\n",
       "      <td>369.0</td>\n",
       "      <td>67.5</td>\n",
       "      <td>M</td>\n",
       "      <td>2.0</td>\n",
       "      <td>299388.72</td>\n",
       "      <td>3.0</td>\n",
       "      <td>6.0</td>\n",
       "    </tr>\n",
       "    <tr>\n",
       "      <th>9</th>\n",
       "      <td>8198645</td>\n",
       "      <td>15.0</td>\n",
       "      <td>189.0</td>\n",
       "      <td>54.5</td>\n",
       "      <td>F</td>\n",
       "      <td>2.0</td>\n",
       "      <td>382303.83</td>\n",
       "      <td>6.0</td>\n",
       "      <td>9.0</td>\n",
       "    </tr>\n",
       "    <tr>\n",
       "      <th>...</th>\n",
       "      <td>...</td>\n",
       "      <td>...</td>\n",
       "      <td>...</td>\n",
       "      <td>...</td>\n",
       "      <td>...</td>\n",
       "      <td>...</td>\n",
       "      <td>...</td>\n",
       "      <td>...</td>\n",
       "      <td>...</td>\n",
       "    </tr>\n",
       "    <tr>\n",
       "      <th>70602</th>\n",
       "      <td>7979279</td>\n",
       "      <td>4.0</td>\n",
       "      <td>49.0</td>\n",
       "      <td>35.0</td>\n",
       "      <td>F</td>\n",
       "      <td>2.0</td>\n",
       "      <td>40441.45</td>\n",
       "      <td>3.0</td>\n",
       "      <td>3.0</td>\n",
       "    </tr>\n",
       "    <tr>\n",
       "      <th>70605</th>\n",
       "      <td>8981690</td>\n",
       "      <td>12.0</td>\n",
       "      <td>148.0</td>\n",
       "      <td>31.0</td>\n",
       "      <td>M</td>\n",
       "      <td>2.0</td>\n",
       "      <td>101867.07</td>\n",
       "      <td>6.0</td>\n",
       "      <td>6.0</td>\n",
       "    </tr>\n",
       "    <tr>\n",
       "      <th>70606</th>\n",
       "      <td>333913</td>\n",
       "      <td>16.0</td>\n",
       "      <td>198.0</td>\n",
       "      <td>61.5</td>\n",
       "      <td>F</td>\n",
       "      <td>2.0</td>\n",
       "      <td>40745.00</td>\n",
       "      <td>3.0</td>\n",
       "      <td>3.0</td>\n",
       "    </tr>\n",
       "    <tr>\n",
       "      <th>70607</th>\n",
       "      <td>1573142</td>\n",
       "      <td>21.0</td>\n",
       "      <td>255.0</td>\n",
       "      <td>68.0</td>\n",
       "      <td>M</td>\n",
       "      <td>3.0</td>\n",
       "      <td>475114.69</td>\n",
       "      <td>4.0</td>\n",
       "      <td>4.0</td>\n",
       "    </tr>\n",
       "    <tr>\n",
       "      <th>70608</th>\n",
       "      <td>5602139</td>\n",
       "      <td>21.0</td>\n",
       "      <td>254.0</td>\n",
       "      <td>59.5</td>\n",
       "      <td>F</td>\n",
       "      <td>3.0</td>\n",
       "      <td>157498.73</td>\n",
       "      <td>7.0</td>\n",
       "      <td>7.0</td>\n",
       "    </tr>\n",
       "  </tbody>\n",
       "</table>\n",
       "<p>46484 rows × 9 columns</p>\n",
       "</div>"
      ],
      "text/plain": [
       "       client_id  clnt_tenure_yr  clnt_tenure_mnth  clnt_age gendr  num_accts  \\\n",
       "3        1562045            16.0             198.0      49.0     M        2.0   \n",
       "4        5126305            12.0             145.0      33.0     F        2.0   \n",
       "7         388801            30.0             361.0      57.5     M        5.0   \n",
       "8         285619            30.0             369.0      67.5     M        2.0   \n",
       "9        8198645            15.0             189.0      54.5     F        2.0   \n",
       "...          ...             ...               ...       ...   ...        ...   \n",
       "70602    7979279             4.0              49.0      35.0     F        2.0   \n",
       "70605    8981690            12.0             148.0      31.0     M        2.0   \n",
       "70606     333913            16.0             198.0      61.5     F        2.0   \n",
       "70607    1573142            21.0             255.0      68.0     M        3.0   \n",
       "70608    5602139            21.0             254.0      59.5     F        3.0   \n",
       "\n",
       "             bal  calls_6_mnth  logons_6_mnth  \n",
       "3       67454.65           3.0            6.0  \n",
       "4      103671.75           0.0            3.0  \n",
       "7      522498.72           1.0            4.0  \n",
       "8      299388.72           3.0            6.0  \n",
       "9      382303.83           6.0            9.0  \n",
       "...          ...           ...            ...  \n",
       "70602   40441.45           3.0            3.0  \n",
       "70605  101867.07           6.0            6.0  \n",
       "70606   40745.00           3.0            3.0  \n",
       "70607  475114.69           4.0            4.0  \n",
       "70608  157498.73           7.0            7.0  \n",
       "\n",
       "[46484 rows x 9 columns]"
      ]
     },
     "metadata": {},
     "output_type": "display_data"
    }
   ],
   "source": [
    "# Drop rows where 'gendr' column is 'U' or 'X'\n",
    "df_profile = df_profile[~df_profile['gendr'].isin(['U', 'X'])]\n",
    "\n",
    "display(df_profile)"
   ]
  },
  {
   "cell_type": "code",
   "execution_count": 7,
   "id": "f5ed51da-5570-4931-85e5-08df0f73d897",
   "metadata": {
    "scrolled": true
   },
   "outputs": [
    {
     "data": {
      "text/plain": [
       "gendr\n",
       "M    23724\n",
       "F    22746\n",
       "Name: count, dtype: int64"
      ]
     },
     "execution_count": 7,
     "metadata": {},
     "output_type": "execute_result"
    }
   ],
   "source": [
    "df_profile[\"gendr\"].value_counts()"
   ]
  },
  {
   "cell_type": "code",
   "execution_count": 8,
   "id": "c44ad476-b02f-4fe0-a0de-ce438c224d99",
   "metadata": {},
   "outputs": [
    {
     "data": {
      "text/plain": [
       "clnt_age            15\n",
       "clnt_tenure_yr      14\n",
       "clnt_tenure_mnth    14\n",
       "gendr               14\n",
       "num_accts           14\n",
       "bal                 14\n",
       "calls_6_mnth        14\n",
       "logons_6_mnth       14\n",
       "client_id            0\n",
       "dtype: int64"
      ]
     },
     "execution_count": 8,
     "metadata": {},
     "output_type": "execute_result"
    }
   ],
   "source": [
    "df_profile.isnull().sum().sort_values(ascending=False)"
   ]
  },
  {
   "cell_type": "code",
   "execution_count": 9,
   "id": "c51bf29c-e867-4f7c-ac51-e51f3006ffea",
   "metadata": {},
   "outputs": [
    {
     "data": {
      "text/html": [
       "<div>\n",
       "<style scoped>\n",
       "    .dataframe tbody tr th:only-of-type {\n",
       "        vertical-align: middle;\n",
       "    }\n",
       "\n",
       "    .dataframe tbody tr th {\n",
       "        vertical-align: top;\n",
       "    }\n",
       "\n",
       "    .dataframe thead th {\n",
       "        text-align: right;\n",
       "    }\n",
       "</style>\n",
       "<table border=\"1\" class=\"dataframe\">\n",
       "  <thead>\n",
       "    <tr style=\"text-align: right;\">\n",
       "      <th></th>\n",
       "      <th>client_id</th>\n",
       "      <th>Variation</th>\n",
       "    </tr>\n",
       "  </thead>\n",
       "  <tbody>\n",
       "    <tr>\n",
       "      <th>0</th>\n",
       "      <td>9988021</td>\n",
       "      <td>Test</td>\n",
       "    </tr>\n",
       "    <tr>\n",
       "      <th>1</th>\n",
       "      <td>8320017</td>\n",
       "      <td>Test</td>\n",
       "    </tr>\n",
       "    <tr>\n",
       "      <th>2</th>\n",
       "      <td>4033851</td>\n",
       "      <td>Control</td>\n",
       "    </tr>\n",
       "    <tr>\n",
       "      <th>3</th>\n",
       "      <td>1982004</td>\n",
       "      <td>Test</td>\n",
       "    </tr>\n",
       "    <tr>\n",
       "      <th>4</th>\n",
       "      <td>9294070</td>\n",
       "      <td>Control</td>\n",
       "    </tr>\n",
       "    <tr>\n",
       "      <th>...</th>\n",
       "      <td>...</td>\n",
       "      <td>...</td>\n",
       "    </tr>\n",
       "    <tr>\n",
       "      <th>70604</th>\n",
       "      <td>2443347</td>\n",
       "      <td>NaN</td>\n",
       "    </tr>\n",
       "    <tr>\n",
       "      <th>70605</th>\n",
       "      <td>8788427</td>\n",
       "      <td>NaN</td>\n",
       "    </tr>\n",
       "    <tr>\n",
       "      <th>70606</th>\n",
       "      <td>266828</td>\n",
       "      <td>NaN</td>\n",
       "    </tr>\n",
       "    <tr>\n",
       "      <th>70607</th>\n",
       "      <td>1266421</td>\n",
       "      <td>NaN</td>\n",
       "    </tr>\n",
       "    <tr>\n",
       "      <th>70608</th>\n",
       "      <td>9895983</td>\n",
       "      <td>NaN</td>\n",
       "    </tr>\n",
       "  </tbody>\n",
       "</table>\n",
       "<p>70609 rows × 2 columns</p>\n",
       "</div>"
      ],
      "text/plain": [
       "       client_id Variation\n",
       "0        9988021      Test\n",
       "1        8320017      Test\n",
       "2        4033851   Control\n",
       "3        1982004      Test\n",
       "4        9294070   Control\n",
       "...          ...       ...\n",
       "70604    2443347       NaN\n",
       "70605    8788427       NaN\n",
       "70606     266828       NaN\n",
       "70607    1266421       NaN\n",
       "70608    9895983       NaN\n",
       "\n",
       "[70609 rows x 2 columns]"
      ]
     },
     "execution_count": 9,
     "metadata": {},
     "output_type": "execute_result"
    }
   ],
   "source": [
    "df_roster = pd.read_csv(\"C:/Users/Meli/Desktop/Ironhack/Lab1/week5_project/data/df_final_experiment_clients.txt\")\n",
    "df_roster"
   ]
  },
  {
   "cell_type": "code",
   "execution_count": 10,
   "id": "6d40aa6a-1f8f-48c5-b89a-762c2c34ff64",
   "metadata": {},
   "outputs": [
    {
     "data": {
      "text/plain": [
       "client_id     int64\n",
       "Variation    object\n",
       "dtype: object"
      ]
     },
     "execution_count": 10,
     "metadata": {},
     "output_type": "execute_result"
    }
   ],
   "source": [
    "df_roster.dtypes"
   ]
  },
  {
   "cell_type": "code",
   "execution_count": 11,
   "id": "21aa91e4-da78-40e9-a782-3992231f7606",
   "metadata": {},
   "outputs": [
    {
     "data": {
      "text/plain": [
       "Index(['client_id', 'Variation'], dtype='object')"
      ]
     },
     "execution_count": 11,
     "metadata": {},
     "output_type": "execute_result"
    }
   ],
   "source": [
    "df_roster.columns"
   ]
  },
  {
   "cell_type": "code",
   "execution_count": 12,
   "id": "a45a00b4-f5fb-4700-b277-a772197c66b0",
   "metadata": {},
   "outputs": [
    {
     "data": {
      "text/plain": [
       "Variation    20109\n",
       "client_id        0\n",
       "dtype: int64"
      ]
     },
     "execution_count": 12,
     "metadata": {},
     "output_type": "execute_result"
    }
   ],
   "source": [
    "df_roster.isnull().sum().sort_values(ascending=False)"
   ]
  },
  {
   "cell_type": "code",
   "execution_count": 13,
   "id": "99b9afcb-7cac-49a1-9df8-33aa7f84b197",
   "metadata": {},
   "outputs": [
    {
     "data": {
      "text/html": [
       "<div>\n",
       "<style scoped>\n",
       "    .dataframe tbody tr th:only-of-type {\n",
       "        vertical-align: middle;\n",
       "    }\n",
       "\n",
       "    .dataframe tbody tr th {\n",
       "        vertical-align: top;\n",
       "    }\n",
       "\n",
       "    .dataframe thead th {\n",
       "        text-align: right;\n",
       "    }\n",
       "</style>\n",
       "<table border=\"1\" class=\"dataframe\">\n",
       "  <thead>\n",
       "    <tr style=\"text-align: right;\">\n",
       "      <th></th>\n",
       "      <th>client_id</th>\n",
       "      <th>Variation</th>\n",
       "    </tr>\n",
       "  </thead>\n",
       "  <tbody>\n",
       "    <tr>\n",
       "      <th>0</th>\n",
       "      <td>9988021</td>\n",
       "      <td>Test</td>\n",
       "    </tr>\n",
       "    <tr>\n",
       "      <th>1</th>\n",
       "      <td>8320017</td>\n",
       "      <td>Test</td>\n",
       "    </tr>\n",
       "    <tr>\n",
       "      <th>2</th>\n",
       "      <td>4033851</td>\n",
       "      <td>Control</td>\n",
       "    </tr>\n",
       "    <tr>\n",
       "      <th>3</th>\n",
       "      <td>1982004</td>\n",
       "      <td>Test</td>\n",
       "    </tr>\n",
       "    <tr>\n",
       "      <th>4</th>\n",
       "      <td>9294070</td>\n",
       "      <td>Control</td>\n",
       "    </tr>\n",
       "    <tr>\n",
       "      <th>...</th>\n",
       "      <td>...</td>\n",
       "      <td>...</td>\n",
       "    </tr>\n",
       "    <tr>\n",
       "      <th>50495</th>\n",
       "      <td>393005</td>\n",
       "      <td>Control</td>\n",
       "    </tr>\n",
       "    <tr>\n",
       "      <th>50496</th>\n",
       "      <td>2908510</td>\n",
       "      <td>Control</td>\n",
       "    </tr>\n",
       "    <tr>\n",
       "      <th>50497</th>\n",
       "      <td>7230446</td>\n",
       "      <td>Test</td>\n",
       "    </tr>\n",
       "    <tr>\n",
       "      <th>50498</th>\n",
       "      <td>5230357</td>\n",
       "      <td>Test</td>\n",
       "    </tr>\n",
       "    <tr>\n",
       "      <th>50499</th>\n",
       "      <td>6334360</td>\n",
       "      <td>Test</td>\n",
       "    </tr>\n",
       "  </tbody>\n",
       "</table>\n",
       "<p>50500 rows × 2 columns</p>\n",
       "</div>"
      ],
      "text/plain": [
       "       client_id Variation\n",
       "0        9988021      Test\n",
       "1        8320017      Test\n",
       "2        4033851   Control\n",
       "3        1982004      Test\n",
       "4        9294070   Control\n",
       "...          ...       ...\n",
       "50495     393005   Control\n",
       "50496    2908510   Control\n",
       "50497    7230446      Test\n",
       "50498    5230357      Test\n",
       "50499    6334360      Test\n",
       "\n",
       "[50500 rows x 2 columns]"
      ]
     },
     "metadata": {},
     "output_type": "display_data"
    }
   ],
   "source": [
    "# Drop rows where 'Variation' column has NaN values\n",
    "df_roster = df_roster.dropna(subset=['Variation'])\n",
    "\n",
    "display(df_roster)"
   ]
  },
  {
   "cell_type": "code",
   "execution_count": 14,
   "id": "ac62ffb4-4892-45a7-898d-c116d5e70ba2",
   "metadata": {},
   "outputs": [
    {
     "data": {
      "text/html": [
       "<div>\n",
       "<style scoped>\n",
       "    .dataframe tbody tr th:only-of-type {\n",
       "        vertical-align: middle;\n",
       "    }\n",
       "\n",
       "    .dataframe tbody tr th {\n",
       "        vertical-align: top;\n",
       "    }\n",
       "\n",
       "    .dataframe thead th {\n",
       "        text-align: right;\n",
       "    }\n",
       "</style>\n",
       "<table border=\"1\" class=\"dataframe\">\n",
       "  <thead>\n",
       "    <tr style=\"text-align: right;\">\n",
       "      <th></th>\n",
       "      <th>client_id</th>\n",
       "      <th>visitor_id</th>\n",
       "      <th>visit_id</th>\n",
       "      <th>process_step</th>\n",
       "      <th>date_time</th>\n",
       "    </tr>\n",
       "  </thead>\n",
       "  <tbody>\n",
       "    <tr>\n",
       "      <th>0</th>\n",
       "      <td>9988021</td>\n",
       "      <td>580560515_7732621733</td>\n",
       "      <td>781255054_21935453173_531117</td>\n",
       "      <td>step_3</td>\n",
       "      <td>2017-04-17 15:27:07</td>\n",
       "    </tr>\n",
       "    <tr>\n",
       "      <th>1</th>\n",
       "      <td>9988021</td>\n",
       "      <td>580560515_7732621733</td>\n",
       "      <td>781255054_21935453173_531117</td>\n",
       "      <td>step_2</td>\n",
       "      <td>2017-04-17 15:26:51</td>\n",
       "    </tr>\n",
       "    <tr>\n",
       "      <th>2</th>\n",
       "      <td>9988021</td>\n",
       "      <td>580560515_7732621733</td>\n",
       "      <td>781255054_21935453173_531117</td>\n",
       "      <td>step_3</td>\n",
       "      <td>2017-04-17 15:19:22</td>\n",
       "    </tr>\n",
       "    <tr>\n",
       "      <th>3</th>\n",
       "      <td>9988021</td>\n",
       "      <td>580560515_7732621733</td>\n",
       "      <td>781255054_21935453173_531117</td>\n",
       "      <td>step_2</td>\n",
       "      <td>2017-04-17 15:19:13</td>\n",
       "    </tr>\n",
       "    <tr>\n",
       "      <th>4</th>\n",
       "      <td>9988021</td>\n",
       "      <td>580560515_7732621733</td>\n",
       "      <td>781255054_21935453173_531117</td>\n",
       "      <td>step_3</td>\n",
       "      <td>2017-04-17 15:18:04</td>\n",
       "    </tr>\n",
       "  </tbody>\n",
       "</table>\n",
       "</div>"
      ],
      "text/plain": [
       "   client_id            visitor_id                      visit_id process_step  \\\n",
       "0    9988021  580560515_7732621733  781255054_21935453173_531117       step_3   \n",
       "1    9988021  580560515_7732621733  781255054_21935453173_531117       step_2   \n",
       "2    9988021  580560515_7732621733  781255054_21935453173_531117       step_3   \n",
       "3    9988021  580560515_7732621733  781255054_21935453173_531117       step_2   \n",
       "4    9988021  580560515_7732621733  781255054_21935453173_531117       step_3   \n",
       "\n",
       "             date_time  \n",
       "0  2017-04-17 15:27:07  \n",
       "1  2017-04-17 15:26:51  \n",
       "2  2017-04-17 15:19:22  \n",
       "3  2017-04-17 15:19:13  \n",
       "4  2017-04-17 15:18:04  "
      ]
     },
     "execution_count": 14,
     "metadata": {},
     "output_type": "execute_result"
    }
   ],
   "source": [
    "df_web1 = pd.read_csv(\"C:/Users/Meli/Desktop/Ironhack/Lab1/week5_project/data/df_final_web_data_pt_1.txt\")\n",
    "df_web1.head(5)"
   ]
  },
  {
   "cell_type": "code",
   "execution_count": 15,
   "id": "a1520a97-4d36-4482-bf05-006618d83daa",
   "metadata": {},
   "outputs": [
    {
     "data": {
      "text/plain": [
       "client_id        int64\n",
       "visitor_id      object\n",
       "visit_id        object\n",
       "process_step    object\n",
       "date_time       object\n",
       "dtype: object"
      ]
     },
     "execution_count": 15,
     "metadata": {},
     "output_type": "execute_result"
    }
   ],
   "source": [
    "df_web1.dtypes"
   ]
  },
  {
   "cell_type": "code",
   "execution_count": 16,
   "id": "218c9ef9-a239-4d6d-95fc-c672000f8b64",
   "metadata": {},
   "outputs": [
    {
     "data": {
      "text/plain": [
       "Index(['client_id', 'visitor_id', 'visit_id', 'process_step', 'date_time'], dtype='object')"
      ]
     },
     "execution_count": 16,
     "metadata": {},
     "output_type": "execute_result"
    }
   ],
   "source": [
    "df_web1.columns"
   ]
  },
  {
   "cell_type": "code",
   "execution_count": 18,
   "id": "044be6b6-944a-459b-bb8c-adcd1b08119b",
   "metadata": {},
   "outputs": [
    {
     "data": {
      "text/html": [
       "<div>\n",
       "<style scoped>\n",
       "    .dataframe tbody tr th:only-of-type {\n",
       "        vertical-align: middle;\n",
       "    }\n",
       "\n",
       "    .dataframe tbody tr th {\n",
       "        vertical-align: top;\n",
       "    }\n",
       "\n",
       "    .dataframe thead th {\n",
       "        text-align: right;\n",
       "    }\n",
       "</style>\n",
       "<table border=\"1\" class=\"dataframe\">\n",
       "  <thead>\n",
       "    <tr style=\"text-align: right;\">\n",
       "      <th></th>\n",
       "      <th>client_id</th>\n",
       "      <th>visitor_id</th>\n",
       "      <th>visit_id</th>\n",
       "      <th>process_step</th>\n",
       "      <th>date_time</th>\n",
       "    </tr>\n",
       "  </thead>\n",
       "  <tbody>\n",
       "    <tr>\n",
       "      <th>0</th>\n",
       "      <td>763412</td>\n",
       "      <td>601952081_10457207388</td>\n",
       "      <td>397475557_40440946728_419634</td>\n",
       "      <td>confirm</td>\n",
       "      <td>2017-06-06 08:56:00</td>\n",
       "    </tr>\n",
       "    <tr>\n",
       "      <th>1</th>\n",
       "      <td>6019349</td>\n",
       "      <td>442094451_91531546617</td>\n",
       "      <td>154620534_35331068705_522317</td>\n",
       "      <td>confirm</td>\n",
       "      <td>2017-06-01 11:59:27</td>\n",
       "    </tr>\n",
       "    <tr>\n",
       "      <th>2</th>\n",
       "      <td>6019349</td>\n",
       "      <td>442094451_91531546617</td>\n",
       "      <td>154620534_35331068705_522317</td>\n",
       "      <td>step_3</td>\n",
       "      <td>2017-06-01 11:58:48</td>\n",
       "    </tr>\n",
       "    <tr>\n",
       "      <th>3</th>\n",
       "      <td>6019349</td>\n",
       "      <td>442094451_91531546617</td>\n",
       "      <td>154620534_35331068705_522317</td>\n",
       "      <td>step_2</td>\n",
       "      <td>2017-06-01 11:58:08</td>\n",
       "    </tr>\n",
       "    <tr>\n",
       "      <th>4</th>\n",
       "      <td>6019349</td>\n",
       "      <td>442094451_91531546617</td>\n",
       "      <td>154620534_35331068705_522317</td>\n",
       "      <td>step_1</td>\n",
       "      <td>2017-06-01 11:57:58</td>\n",
       "    </tr>\n",
       "  </tbody>\n",
       "</table>\n",
       "</div>"
      ],
      "text/plain": [
       "   client_id             visitor_id                      visit_id  \\\n",
       "0     763412  601952081_10457207388  397475557_40440946728_419634   \n",
       "1    6019349  442094451_91531546617  154620534_35331068705_522317   \n",
       "2    6019349  442094451_91531546617  154620534_35331068705_522317   \n",
       "3    6019349  442094451_91531546617  154620534_35331068705_522317   \n",
       "4    6019349  442094451_91531546617  154620534_35331068705_522317   \n",
       "\n",
       "  process_step            date_time  \n",
       "0      confirm  2017-06-06 08:56:00  \n",
       "1      confirm  2017-06-01 11:59:27  \n",
       "2       step_3  2017-06-01 11:58:48  \n",
       "3       step_2  2017-06-01 11:58:08  \n",
       "4       step_1  2017-06-01 11:57:58  "
      ]
     },
     "execution_count": 18,
     "metadata": {},
     "output_type": "execute_result"
    }
   ],
   "source": [
    "df_web2 = pd.read_csv(\"C:/Users/Meli/Desktop/Ironhack/Lab1/week5_project/data/df_final_web_data_pt_2.txt\")\n",
    "df_web2.head(5)"
   ]
  },
  {
   "cell_type": "code",
   "execution_count": 20,
   "id": "853800fc-e98b-46b8-bc03-ff3597922fa8",
   "metadata": {},
   "outputs": [
    {
     "data": {
      "text/plain": [
       "Index(['client_id', 'visitor_id', 'visit_id', 'process_step', 'date_time'], dtype='object')"
      ]
     },
     "execution_count": 20,
     "metadata": {},
     "output_type": "execute_result"
    }
   ],
   "source": [
    "df_web2.columns"
   ]
  },
  {
   "cell_type": "code",
   "execution_count": 19,
   "id": "a7e7dc10-d0d8-4873-9557-050a794dff42",
   "metadata": {},
   "outputs": [
    {
     "data": {
      "text/plain": [
       "client_id        int64\n",
       "visitor_id      object\n",
       "visit_id        object\n",
       "process_step    object\n",
       "date_time       object\n",
       "dtype: object"
      ]
     },
     "execution_count": 19,
     "metadata": {},
     "output_type": "execute_result"
    }
   ],
   "source": [
    "df_web2.dtypes"
   ]
  },
  {
   "cell_type": "markdown",
   "id": "52c2f757-6720-4233-a058-5607a030b191",
   "metadata": {},
   "source": [
    "# Data Agregation"
   ]
  },
  {
   "cell_type": "code",
   "execution_count": 21,
   "id": "2394c9e2-0d8a-4f47-821a-34e2ecbc8c1c",
   "metadata": {
    "scrolled": true
   },
   "outputs": [
    {
     "data": {
      "text/html": [
       "<div>\n",
       "<style scoped>\n",
       "    .dataframe tbody tr th:only-of-type {\n",
       "        vertical-align: middle;\n",
       "    }\n",
       "\n",
       "    .dataframe tbody tr th {\n",
       "        vertical-align: top;\n",
       "    }\n",
       "\n",
       "    .dataframe thead th {\n",
       "        text-align: right;\n",
       "    }\n",
       "</style>\n",
       "<table border=\"1\" class=\"dataframe\">\n",
       "  <thead>\n",
       "    <tr style=\"text-align: right;\">\n",
       "      <th></th>\n",
       "      <th>client_id</th>\n",
       "      <th>visitor_id</th>\n",
       "      <th>visit_id</th>\n",
       "      <th>process_step</th>\n",
       "      <th>date_time</th>\n",
       "    </tr>\n",
       "  </thead>\n",
       "  <tbody>\n",
       "    <tr>\n",
       "      <th>0</th>\n",
       "      <td>9988021</td>\n",
       "      <td>580560515_7732621733</td>\n",
       "      <td>781255054_21935453173_531117</td>\n",
       "      <td>step_3</td>\n",
       "      <td>2017-04-17 15:27:07</td>\n",
       "    </tr>\n",
       "    <tr>\n",
       "      <th>1</th>\n",
       "      <td>9988021</td>\n",
       "      <td>580560515_7732621733</td>\n",
       "      <td>781255054_21935453173_531117</td>\n",
       "      <td>step_2</td>\n",
       "      <td>2017-04-17 15:26:51</td>\n",
       "    </tr>\n",
       "    <tr>\n",
       "      <th>2</th>\n",
       "      <td>9988021</td>\n",
       "      <td>580560515_7732621733</td>\n",
       "      <td>781255054_21935453173_531117</td>\n",
       "      <td>step_3</td>\n",
       "      <td>2017-04-17 15:19:22</td>\n",
       "    </tr>\n",
       "    <tr>\n",
       "      <th>3</th>\n",
       "      <td>9988021</td>\n",
       "      <td>580560515_7732621733</td>\n",
       "      <td>781255054_21935453173_531117</td>\n",
       "      <td>step_2</td>\n",
       "      <td>2017-04-17 15:19:13</td>\n",
       "    </tr>\n",
       "    <tr>\n",
       "      <th>4</th>\n",
       "      <td>9988021</td>\n",
       "      <td>580560515_7732621733</td>\n",
       "      <td>781255054_21935453173_531117</td>\n",
       "      <td>step_3</td>\n",
       "      <td>2017-04-17 15:18:04</td>\n",
       "    </tr>\n",
       "    <tr>\n",
       "      <th>...</th>\n",
       "      <td>...</td>\n",
       "      <td>...</td>\n",
       "      <td>...</td>\n",
       "      <td>...</td>\n",
       "      <td>...</td>\n",
       "    </tr>\n",
       "    <tr>\n",
       "      <th>412259</th>\n",
       "      <td>9668240</td>\n",
       "      <td>388766751_9038881013</td>\n",
       "      <td>922267647_3096648104_968866</td>\n",
       "      <td>start</td>\n",
       "      <td>2017-05-24 18:46:10</td>\n",
       "    </tr>\n",
       "    <tr>\n",
       "      <th>412260</th>\n",
       "      <td>9668240</td>\n",
       "      <td>388766751_9038881013</td>\n",
       "      <td>922267647_3096648104_968866</td>\n",
       "      <td>start</td>\n",
       "      <td>2017-05-24 18:45:29</td>\n",
       "    </tr>\n",
       "    <tr>\n",
       "      <th>412261</th>\n",
       "      <td>9668240</td>\n",
       "      <td>388766751_9038881013</td>\n",
       "      <td>922267647_3096648104_968866</td>\n",
       "      <td>step_1</td>\n",
       "      <td>2017-05-24 18:44:51</td>\n",
       "    </tr>\n",
       "    <tr>\n",
       "      <th>412262</th>\n",
       "      <td>9668240</td>\n",
       "      <td>388766751_9038881013</td>\n",
       "      <td>922267647_3096648104_968866</td>\n",
       "      <td>start</td>\n",
       "      <td>2017-05-24 18:44:34</td>\n",
       "    </tr>\n",
       "    <tr>\n",
       "      <th>412263</th>\n",
       "      <td>674799</td>\n",
       "      <td>947159805_81558194550</td>\n",
       "      <td>86152093_47511127657_716022</td>\n",
       "      <td>start</td>\n",
       "      <td>2017-06-03 12:17:09</td>\n",
       "    </tr>\n",
       "  </tbody>\n",
       "</table>\n",
       "<p>755405 rows × 5 columns</p>\n",
       "</div>"
      ],
      "text/plain": [
       "        client_id             visitor_id                      visit_id  \\\n",
       "0         9988021   580560515_7732621733  781255054_21935453173_531117   \n",
       "1         9988021   580560515_7732621733  781255054_21935453173_531117   \n",
       "2         9988021   580560515_7732621733  781255054_21935453173_531117   \n",
       "3         9988021   580560515_7732621733  781255054_21935453173_531117   \n",
       "4         9988021   580560515_7732621733  781255054_21935453173_531117   \n",
       "...           ...                    ...                           ...   \n",
       "412259    9668240   388766751_9038881013   922267647_3096648104_968866   \n",
       "412260    9668240   388766751_9038881013   922267647_3096648104_968866   \n",
       "412261    9668240   388766751_9038881013   922267647_3096648104_968866   \n",
       "412262    9668240   388766751_9038881013   922267647_3096648104_968866   \n",
       "412263     674799  947159805_81558194550   86152093_47511127657_716022   \n",
       "\n",
       "       process_step            date_time  \n",
       "0            step_3  2017-04-17 15:27:07  \n",
       "1            step_2  2017-04-17 15:26:51  \n",
       "2            step_3  2017-04-17 15:19:22  \n",
       "3            step_2  2017-04-17 15:19:13  \n",
       "4            step_3  2017-04-17 15:18:04  \n",
       "...             ...                  ...  \n",
       "412259        start  2017-05-24 18:46:10  \n",
       "412260        start  2017-05-24 18:45:29  \n",
       "412261       step_1  2017-05-24 18:44:51  \n",
       "412262        start  2017-05-24 18:44:34  \n",
       "412263        start  2017-06-03 12:17:09  \n",
       "\n",
       "[755405 rows x 5 columns]"
      ]
     },
     "execution_count": 21,
     "metadata": {},
     "output_type": "execute_result"
    }
   ],
   "source": [
    "df_footprint = pd.concat([df_web1, df_web2])\n",
    "df_footprint"
   ]
  },
  {
   "cell_type": "markdown",
   "id": "dffd2cc6-d474-4277-852e-046c2ea5b940",
   "metadata": {},
   "source": [
    "## Steps Duration"
   ]
  },
  {
   "cell_type": "code",
   "execution_count": 23,
   "id": "9da1f67c-0bc2-4572-9603-eb129ffa51ae",
   "metadata": {},
   "outputs": [
    {
     "name": "stdout",
     "output_type": "stream",
     "text": [
      "Test Group:\n"
     ]
    },
    {
     "data": {
      "text/html": [
       "<div>\n",
       "<style scoped>\n",
       "    .dataframe tbody tr th:only-of-type {\n",
       "        vertical-align: middle;\n",
       "    }\n",
       "\n",
       "    .dataframe tbody tr th {\n",
       "        vertical-align: top;\n",
       "    }\n",
       "\n",
       "    .dataframe thead th {\n",
       "        text-align: right;\n",
       "    }\n",
       "</style>\n",
       "<table border=\"1\" class=\"dataframe\">\n",
       "  <thead>\n",
       "    <tr style=\"text-align: right;\">\n",
       "      <th></th>\n",
       "      <th>client_id</th>\n",
       "      <th>process_step</th>\n",
       "      <th>Variation</th>\n",
       "    </tr>\n",
       "  </thead>\n",
       "  <tbody>\n",
       "    <tr>\n",
       "      <th>0</th>\n",
       "      <td>555</td>\n",
       "      <td>[start, step_2, confirm, step_3, step_1]</td>\n",
       "      <td>Test</td>\n",
       "    </tr>\n",
       "    <tr>\n",
       "      <th>1</th>\n",
       "      <td>647</td>\n",
       "      <td>[step_2, step_1, confirm, start, step_3]</td>\n",
       "      <td>Test</td>\n",
       "    </tr>\n",
       "    <tr>\n",
       "      <th>2</th>\n",
       "      <td>934</td>\n",
       "      <td>[start, start, start, start]</td>\n",
       "      <td>Test</td>\n",
       "    </tr>\n",
       "    <tr>\n",
       "      <th>8</th>\n",
       "      <td>1336</td>\n",
       "      <td>[confirm, start, confirm, step_1, step_2, step...</td>\n",
       "      <td>Test</td>\n",
       "    </tr>\n",
       "    <tr>\n",
       "      <th>9</th>\n",
       "      <td>1346</td>\n",
       "      <td>[step_3, start, start, step_1, start, step_2, ...</td>\n",
       "      <td>Test</td>\n",
       "    </tr>\n",
       "    <tr>\n",
       "      <th>...</th>\n",
       "      <td>...</td>\n",
       "      <td>...</td>\n",
       "      <td>...</td>\n",
       "    </tr>\n",
       "    <tr>\n",
       "      <th>50495</th>\n",
       "      <td>9999150</td>\n",
       "      <td>[step_1, start, start]</td>\n",
       "      <td>Test</td>\n",
       "    </tr>\n",
       "    <tr>\n",
       "      <th>50496</th>\n",
       "      <td>9999400</td>\n",
       "      <td>[step_1, start, step_3, confirm, step_2]</td>\n",
       "      <td>Test</td>\n",
       "    </tr>\n",
       "    <tr>\n",
       "      <th>50497</th>\n",
       "      <td>9999626</td>\n",
       "      <td>[step_1, start]</td>\n",
       "      <td>Test</td>\n",
       "    </tr>\n",
       "    <tr>\n",
       "      <th>50498</th>\n",
       "      <td>9999729</td>\n",
       "      <td>[confirm, step_3, step_2, step_1, start, start...</td>\n",
       "      <td>Test</td>\n",
       "    </tr>\n",
       "    <tr>\n",
       "      <th>50499</th>\n",
       "      <td>9999832</td>\n",
       "      <td>[step_1, start]</td>\n",
       "      <td>Test</td>\n",
       "    </tr>\n",
       "  </tbody>\n",
       "</table>\n",
       "<p>26968 rows × 3 columns</p>\n",
       "</div>"
      ],
      "text/plain": [
       "       client_id                                       process_step Variation\n",
       "0            555           [start, step_2, confirm, step_3, step_1]      Test\n",
       "1            647           [step_2, step_1, confirm, start, step_3]      Test\n",
       "2            934                       [start, start, start, start]      Test\n",
       "8           1336  [confirm, start, confirm, step_1, step_2, step...      Test\n",
       "9           1346  [step_3, start, start, step_1, start, step_2, ...      Test\n",
       "...          ...                                                ...       ...\n",
       "50495    9999150                             [step_1, start, start]      Test\n",
       "50496    9999400           [step_1, start, step_3, confirm, step_2]      Test\n",
       "50497    9999626                                    [step_1, start]      Test\n",
       "50498    9999729  [confirm, step_3, step_2, step_1, start, start...      Test\n",
       "50499    9999832                                    [step_1, start]      Test\n",
       "\n",
       "[26968 rows x 3 columns]"
      ]
     },
     "metadata": {},
     "output_type": "display_data"
    },
    {
     "name": "stdout",
     "output_type": "stream",
     "text": [
      "\n",
      "Control Group:\n"
     ]
    },
    {
     "data": {
      "text/html": [
       "<div>\n",
       "<style scoped>\n",
       "    .dataframe tbody tr th:only-of-type {\n",
       "        vertical-align: middle;\n",
       "    }\n",
       "\n",
       "    .dataframe tbody tr th {\n",
       "        vertical-align: top;\n",
       "    }\n",
       "\n",
       "    .dataframe thead th {\n",
       "        text-align: right;\n",
       "    }\n",
       "</style>\n",
       "<table border=\"1\" class=\"dataframe\">\n",
       "  <thead>\n",
       "    <tr style=\"text-align: right;\">\n",
       "      <th></th>\n",
       "      <th>client_id</th>\n",
       "      <th>process_step</th>\n",
       "      <th>Variation</th>\n",
       "    </tr>\n",
       "  </thead>\n",
       "  <tbody>\n",
       "    <tr>\n",
       "      <th>3</th>\n",
       "      <td>1028</td>\n",
       "      <td>[step_2, step_1, step_1, start, step_2, step_3...</td>\n",
       "      <td>Control</td>\n",
       "    </tr>\n",
       "    <tr>\n",
       "      <th>4</th>\n",
       "      <td>1104</td>\n",
       "      <td>[start, start]</td>\n",
       "      <td>Control</td>\n",
       "    </tr>\n",
       "    <tr>\n",
       "      <th>5</th>\n",
       "      <td>1186</td>\n",
       "      <td>[step_2, start, start, step_1]</td>\n",
       "      <td>Control</td>\n",
       "    </tr>\n",
       "    <tr>\n",
       "      <th>6</th>\n",
       "      <td>1195</td>\n",
       "      <td>[step_2, step_1, start, step_3, confirm]</td>\n",
       "      <td>Control</td>\n",
       "    </tr>\n",
       "    <tr>\n",
       "      <th>7</th>\n",
       "      <td>1197</td>\n",
       "      <td>[step_2, step_3, step_1, step_3, confirm, star...</td>\n",
       "      <td>Control</td>\n",
       "    </tr>\n",
       "    <tr>\n",
       "      <th>...</th>\n",
       "      <td>...</td>\n",
       "      <td>...</td>\n",
       "      <td>...</td>\n",
       "    </tr>\n",
       "    <tr>\n",
       "      <th>50485</th>\n",
       "      <td>9997125</td>\n",
       "      <td>[step_3, start, step_1, step_2, confirm]</td>\n",
       "      <td>Control</td>\n",
       "    </tr>\n",
       "    <tr>\n",
       "      <th>50486</th>\n",
       "      <td>9997391</td>\n",
       "      <td>[step_1, step_2, step_3, step_2, step_3, step_...</td>\n",
       "      <td>Control</td>\n",
       "    </tr>\n",
       "    <tr>\n",
       "      <th>50487</th>\n",
       "      <td>9997470</td>\n",
       "      <td>[start, step_1, confirm, step_3, start, step_2...</td>\n",
       "      <td>Control</td>\n",
       "    </tr>\n",
       "    <tr>\n",
       "      <th>50489</th>\n",
       "      <td>9998346</td>\n",
       "      <td>[step_3, step_2, step_3, confirm, step_3, step...</td>\n",
       "      <td>Control</td>\n",
       "    </tr>\n",
       "    <tr>\n",
       "      <th>50492</th>\n",
       "      <td>9998921</td>\n",
       "      <td>[start]</td>\n",
       "      <td>Control</td>\n",
       "    </tr>\n",
       "  </tbody>\n",
       "</table>\n",
       "<p>23532 rows × 3 columns</p>\n",
       "</div>"
      ],
      "text/plain": [
       "       client_id                                       process_step Variation\n",
       "3           1028  [step_2, step_1, step_1, start, step_2, step_3...   Control\n",
       "4           1104                                     [start, start]   Control\n",
       "5           1186                     [step_2, start, start, step_1]   Control\n",
       "6           1195           [step_2, step_1, start, step_3, confirm]   Control\n",
       "7           1197  [step_2, step_3, step_1, step_3, confirm, star...   Control\n",
       "...          ...                                                ...       ...\n",
       "50485    9997125           [step_3, start, step_1, step_2, confirm]   Control\n",
       "50486    9997391  [step_1, step_2, step_3, step_2, step_3, step_...   Control\n",
       "50487    9997470  [start, step_1, confirm, step_3, start, step_2...   Control\n",
       "50489    9998346  [step_3, step_2, step_3, confirm, step_3, step...   Control\n",
       "50492    9998921                                            [start]   Control\n",
       "\n",
       "[23532 rows x 3 columns]"
      ]
     },
     "metadata": {},
     "output_type": "display_data"
    }
   ],
   "source": [
    "# Sort df_footprint by client_id\n",
    "df_footprint_sorted = df_footprint.sort_values(by='client_id')\n",
    "\n",
    "# Merge df_footprint_sorted with df_roster to get the Variation information\n",
    "df_merged = df_footprint_sorted.merge(df_roster, on='client_id', how='left')\n",
    "\n",
    "# Group by client_id and collect process_step order\n",
    "grouped = df_merged.groupby('client_id')['process_step'].apply(list).reset_index()\n",
    "\n",
    "# Merge back to get Variation information in the final output\n",
    "result = grouped.merge(df_roster, on='client_id')\n",
    "\n",
    "# Separate Test and Control groups\n",
    "test_group = result[result['Variation'] == 'Test']\n",
    "control_group = result[result['Variation'] == 'Control']\n",
    "\n",
    "# Display results\n",
    "print(\"Test Group:\")\n",
    "display(test_group)\n",
    "print(\"\\nControl Group:\")\n",
    "display(control_group)"
   ]
  },
  {
   "cell_type": "code",
   "execution_count": 24,
   "id": "b7969ce4-72bf-46fb-91ef-66a06023aaa9",
   "metadata": {},
   "outputs": [
    {
     "data": {
      "text/plain": [
       "client_id       0\n",
       "visitor_id      0\n",
       "visit_id        0\n",
       "process_step    0\n",
       "date_time       0\n",
       "dtype: int64"
      ]
     },
     "execution_count": 24,
     "metadata": {},
     "output_type": "execute_result"
    }
   ],
   "source": [
    "df_footprint.isnull().sum().sort_values(ascending=False)"
   ]
  },
  {
   "cell_type": "code",
   "execution_count": null,
   "id": "d5028dc9-c8c6-46fc-8a4e-70e5eed995d6",
   "metadata": {},
   "outputs": [],
   "source": []
  },
  {
   "cell_type": "code",
   "execution_count": 25,
   "id": "33306ca6-a691-441b-91a9-f53288c5a14f",
   "metadata": {},
   "outputs": [
    {
     "data": {
      "text/plain": [
       "Index(['client_id', 'visitor_id', 'visit_id', 'process_step', 'date_time'], dtype='object')"
      ]
     },
     "execution_count": 25,
     "metadata": {},
     "output_type": "execute_result"
    }
   ],
   "source": [
    "df_footprint.columns"
   ]
  },
  {
   "cell_type": "code",
   "execution_count": 26,
   "id": "66cf5d8a-ae88-4544-b2a4-9621db574c8a",
   "metadata": {},
   "outputs": [
    {
     "data": {
      "text/plain": [
       "Variation\n",
       "Test       0.953797\n",
       "Control    0.743881\n",
       "Name: count, dtype: float64"
      ]
     },
     "metadata": {},
     "output_type": "display_data"
    }
   ],
   "source": [
    "# Merge df_footprint and df_roster on client_id\n",
    "merged_df = pd.merge(df_footprint, df_roster, on='client_id')\n",
    "\n",
    "# Filter rows where process_step is 'confirm'\n",
    "confirm_df = merged_df[merged_df['process_step'] == 'confirm']\n",
    "\n",
    "# Calculate the total number of users in each variation group\n",
    "total_users = df_roster['Variation'].value_counts()\n",
    "\n",
    "# Calculate the number of users who reached the 'confirm' step in each variation group\n",
    "confirm_users = confirm_df['Variation'].value_counts()\n",
    "\n",
    "# Calculate the proportion of users who reached the 'confirm' step in each group\n",
    "proportion_confirm = confirm_users / total_users\n",
    "\n",
    "# Drop NaN values\n",
    "proportion_confirm = proportion_confirm.dropna()\n",
    "\n",
    "# Display the result\n",
    "display(proportion_confirm)"
   ]
  },
  {
   "cell_type": "markdown",
   "id": "cb6d12b1-b71d-404f-b856-b4b6d6097992",
   "metadata": {},
   "source": [
    "## Client behavior analysis\r\n",
    "\r\n",
    "Client behavior analysis\r\n",
    "Answer the following questions about demographics:\r\n",
    "\r\n",
    "Who are the primary clients using this online process?\r\n",
    "Are the primary clients younger or older, new or long-standing?"
   ]
  },
  {
   "cell_type": "code",
   "execution_count": 27,
   "id": "d383e0ed-3318-45aa-aee3-444e92dd883d",
   "metadata": {},
   "outputs": [
    {
     "data": {
      "text/plain": [
       "(49.0, 50.0, 58.5)"
      ]
     },
     "execution_count": 27,
     "metadata": {},
     "output_type": "execute_result"
    }
   ],
   "source": [
    "mean_age = df_profile['clnt_age'].mean()\n",
    "median_age = df_profile['clnt_age'].median()\n",
    "mode_age = df_profile['clnt_age'].mode()[0]\n",
    "\n",
    "mean_age.round(), median_age, mode_age"
   ]
  },
  {
   "cell_type": "code",
   "execution_count": 28,
   "id": "7aa2b00c-ad89-481d-8367-1d057fe7999c",
   "metadata": {},
   "outputs": [
    {
     "data": {
      "text/plain": [
       "(222.02485419757957,\n",
       " 14.90049845466854,\n",
       " 14.0,\n",
       " 96.0,\n",
       " 82.0,\n",
       " 0.25    36.5\n",
       " 0.50    50.0\n",
       " 0.75    60.5\n",
       " Name: clnt_age, dtype: float64)"
      ]
     },
     "execution_count": 28,
     "metadata": {},
     "output_type": "execute_result"
    }
   ],
   "source": [
    "variance_age = df_profile['clnt_age'].var()\n",
    "std_dev_age = df_profile['clnt_age'].std()\n",
    "min_age = df_profile['clnt_age'].min()\n",
    "max_age = df_profile['clnt_age'].max()\n",
    "range_age = max_age - min_age\n",
    "quantiles_age = df_profile['clnt_age'].quantile([0.25, 0.5, 0.75])\n",
    "\n",
    "variance_age , std_dev_age , min_age , max_age , range_age , quantiles_age "
   ]
  },
  {
   "cell_type": "code",
   "execution_count": 29,
   "id": "f54eaf60-dd94-4d33-93b6-5ca3857e8c2f",
   "metadata": {},
   "outputs": [
    {
     "data": {
      "text/plain": [
       "clnt_age\n",
       "58.5    620\n",
       "57.5    608\n",
       "53.0    597\n",
       "55.5    596\n",
       "52.5    584\n",
       "       ... \n",
       "93.5      3\n",
       "93.0      2\n",
       "96.0      1\n",
       "95.5      1\n",
       "14.0      1\n",
       "Name: count, Length: 162, dtype: int64"
      ]
     },
     "execution_count": 29,
     "metadata": {},
     "output_type": "execute_result"
    }
   ],
   "source": [
    "# Frequency table for 'category'\n",
    "frequency_table = df_profile[\"clnt_age\"].value_counts()\n",
    "frequency_table\n"
   ]
  },
  {
   "cell_type": "code",
   "execution_count": 30,
   "id": "5123261f-3ccb-4390-a91b-ca2976872647",
   "metadata": {},
   "outputs": [
    {
     "data": {
      "text/plain": [
       "clnt_age\n",
       "58.5    0.013342\n",
       "57.5    0.013084\n",
       "53.0    0.012847\n",
       "55.5    0.012826\n",
       "52.5    0.012568\n",
       "          ...   \n",
       "93.5    0.000065\n",
       "93.0    0.000043\n",
       "96.0    0.000022\n",
       "95.5    0.000022\n",
       "14.0    0.000022\n",
       "Name: proportion, Length: 162, dtype: float64"
      ]
     },
     "execution_count": 30,
     "metadata": {},
     "output_type": "execute_result"
    }
   ],
   "source": [
    "# Calculating the proportion of each unique value in the 'category'\n",
    "proportion_table = df_profile[\"clnt_age\"].value_counts(normalize=True)\n",
    "proportion_table"
   ]
  },
  {
   "cell_type": "code",
   "execution_count": 31,
   "id": "06be4861-8692-4416-91df-975027564293",
   "metadata": {},
   "outputs": [
    {
     "data": {
      "text/plain": [
       "gendr\n",
       "M    23724\n",
       "F    22746\n",
       "Name: count, dtype: int64"
      ]
     },
     "execution_count": 31,
     "metadata": {},
     "output_type": "execute_result"
    }
   ],
   "source": [
    "frequency_table = df_profile[\"gendr\"].value_counts()\n",
    "frequency_table"
   ]
  },
  {
   "cell_type": "code",
   "execution_count": 32,
   "id": "ccfa84d8-dfbb-4eec-9578-86376ee0737f",
   "metadata": {},
   "outputs": [
    {
     "data": {
      "text/plain": [
       "gendr\n",
       "M    0.510523\n",
       "F    0.489477\n",
       "Name: proportion, dtype: float64"
      ]
     },
     "execution_count": 32,
     "metadata": {},
     "output_type": "execute_result"
    }
   ],
   "source": [
    "proportion_table = df_profile[\"gendr\"].value_counts(normalize=True)\n",
    "proportion_table"
   ]
  },
  {
   "cell_type": "code",
   "execution_count": 33,
   "id": "45e77d47-ebb9-47dc-879e-74e88a98873f",
   "metadata": {},
   "outputs": [
    {
     "name": "stdout",
     "output_type": "stream",
     "text": [
      "Gender counts:\n",
      "gendr\n",
      "M    23724\n",
      "F    22746\n",
      "Name: count, dtype: int64\n",
      "There are more men.\n",
      "The average age of the clients is 49.04176978200521 years.\n",
      "The primary clients are older.\n",
      "The average tenure of the clients is 361.9671400903809 months.\n",
      "The primary clients are new.\n"
     ]
    }
   ],
   "source": [
    "# Count the number of men and women\n",
    "gender_counts = df_profile['gendr'].value_counts()\n",
    "print(f\"Gender counts:\\n{gender_counts}\")\n",
    "\n",
    "# Check if there are more men or women\n",
    "if gender_counts['M'] > gender_counts['F']:\n",
    "    print(\"There are more men.\")\n",
    "elif gender_counts['M'] < gender_counts['F']:\n",
    "    print(\"There are more women.\")\n",
    "else:\n",
    "    print(\"The number of men and women is the same.\")\n",
    "\n",
    "# Calculate the average age\n",
    "average_age = df_profile['clnt_age'].mean()\n",
    "print(f\"The average age of the clients is {average_age} years.\")\n",
    "\n",
    "# Check if the primary clients are younger or older\n",
    "if average_age < df_profile['clnt_age'].max()/2:\n",
    "    print(\"The primary clients are younger.\")\n",
    "else:\n",
    "    print(\"The primary clients are older.\")\n",
    "\n",
    "# Calculate the average tenure in months\n",
    "average_tenure = df_profile['clnt_tenure_yr']*12 + df_profile['clnt_tenure_mnth']\n",
    "print(f\"The average tenure of the clients is {average_tenure.mean()} months.\")\n",
    "\n",
    "# Check if the primary clients are new or long-standing\n",
    "if average_tenure.mean() < df_profile['clnt_tenure_yr'].max()*12/2:\n",
    "    print(\"The primary clients are new.\")\n",
    "else:\n",
    "    print(\"The primary clients are long-standing.\")"
   ]
  },
  {
   "cell_type": "code",
   "execution_count": 38,
   "id": "bc508bd5-9c95-4d26-96ac-871740aeb92c",
   "metadata": {},
   "outputs": [
    {
     "data": {
      "image/png": "[encoded data removed]",
      "text/plain": [
       "<Figure size 800x600 with 1 Axes>"
      ]
     },
     "metadata": {},
     "output_type": "display_data"
    }
   ],
   "source": [
    "# Create a bar plot\n",
    "plt.figure(figsize=(8, 6))\n",
    "sns.barplot(x=gender_counts.index, y=gender_counts.values, hue=gender_counts.index, palette='dark:maroon')\n",
    "plt.xlabel('Gender')\n",
    "plt.ylabel('Count')\n",
    "plt.title('Count of Men and Women')\n",
    "\n",
    "plt.show()"
   ]
  },
  {
   "cell_type": "code",
   "execution_count": 39,
   "id": "266b8454-f77c-4e43-b61b-39f907ba3d8b",
   "metadata": {},
   "outputs": [
    {
     "data": {
      "image/png": "[encoded data removed]",
      "text/plain": [
       "<Figure size 1000x600 with 1 Axes>"
      ]
     },
     "metadata": {},
     "output_type": "display_data"
    }
   ],
   "source": [
    "# Create a histogram of ages\n",
    "plt.figure(figsize=(10, 6))\n",
    "sns.histplot(df_profile['clnt_age'], bins=10, kde=True, color='maroon')\n",
    "plt.axvline(average_age, color='red', linestyle='dashed', linewidth=2)\n",
    "plt.text(average_age + 2, plt.ylim()[1] * 0.9, f'Average Age: {average_age:.2f}', color='maroon')\n",
    "plt.xlabel('Age')\n",
    "plt.ylabel('Frequency')\n",
    "plt.title('Distribution of Client Ages')\n",
    "plt.subplots_adjust(left=0.1, right=0.95, top=0.9, bottom=0.1)  # Adjust padding\n",
    "plt.savefig(\"../image/vis2.png\")\n",
    "\n",
    "plt.show()"
   ]
  },
  {
   "cell_type": "markdown",
   "id": "0c16f2a7-5b4e-4c28-8aae-34177d1bd5fe",
   "metadata": {},
   "source": [
    "# KPI´s and Metrics"
   ]
  },
  {
   "cell_type": "markdown",
   "id": "98ff3eed-74cf-4a14-ab7a-e7ca8781ce57",
   "metadata": {},
   "source": [
    "## Completion Rate: This KPI measures the proportion of users who successfully complete the entire process, from the initial page to the confirmation page. A higher completion rate indicates that the new design is more effective. \n",
    "\n",
    "Time Spent on Each Step: Understanding the average duration users spend on each step provides insights into user engagement and potential bottlenecks. A decrease in the time spent on each step with the new design suggests improved efficiency and user experience.\n",
    "\n",
    "Error Rates: Errors such as users going back to a previous step or encountering validation issues indicate confusion or difficulty in progressing through the process. A lower error rate with the new design suggests clearer navigation and reduced user frustration."
   ]
  },
  {
   "cell_type": "markdown",
   "id": "b90e1da5-4c31-4c50-a5c6-2cc47d411a33",
   "metadata": {},
   "source": [
    "# Hypothesis Testing"
   ]
  },
  {
   "cell_type": "markdown",
   "id": "5df63b35-278d-4ef3-b7b6-fb27c935424d",
   "metadata": {},
   "source": [
    "## completion rate between the Test and Control groups"
   ]
  },
  {
   "cell_type": "code",
   "execution_count": 74,
   "id": "5e607576-405b-461b-a2f0-c5a150a547fd",
   "metadata": {},
   "outputs": [
    {
     "name": "stdout",
     "output_type": "stream",
     "text": [
      "Completion rate (Test): 0.69\n",
      "Completion rate (Control): 0.66\n"
     ]
    }
   ],
   "source": [
    "# Merge df_roster and df_footprint on 'client_id'\n",
    "merged_df = pd.merge(df_footprint, df_roster, on='client_id')\n",
    "\n",
    "# Filter rows where process_step is 'confirm'\n",
    "confirm_df = merged_df[merged_df['process_step'] == 'confirm']\n",
    "\n",
    "# Calculate total clients in Test and Control groups\n",
    "total_clients_test = df_roster[df_roster['Variation'] == 'Test']['client_id'].nunique()\n",
    "total_clients_control = df_roster[df_roster['Variation'] == 'Control']['client_id'].nunique()\n",
    "\n",
    "# Calculate the number of clients who completed the 'confirm' step in each group\n",
    "completed_test = confirm_df[confirm_df['Variation'] == 'Test']['client_id'].nunique()\n",
    "completed_control = confirm_df[confirm_df['Variation'] == 'Control']['client_id'].nunique()\n",
    "\n",
    "# Calculate completion rates\n",
    "completion_rate_test = completed_test / total_clients_test\n",
    "completion_rate_control = completed_control / total_clients_control\n",
    "\n",
    "# Display results\n",
    "print(f\"Completion rate (Test): {completion_rate_test:.2f}\")\n",
    "print(f\"Completion rate (Control): {completion_rate_control:.2f}\")"
   ]
  },
  {
   "cell_type": "code",
   "execution_count": 73,
   "id": "9e309e6a-80d8-4ddb-afd7-1e155bc8cfcb",
   "metadata": {},
   "outputs": [
    {
     "data": {
      "image/png": "[encoded data removed]",
      "text/plain": [
       "<Figure size 1000x600 with 1 Axes>"
      ]
     },
     "metadata": {},
     "output_type": "display_data"
    }
   ],
   "source": [
    "# Create a bar plot for completion rates\n",
    "plt.figure(figsize=(10, 6))\n",
    "sns.barplot(x=['Test', 'Control'], y=[completion_rate_test, completion_rate_control], color='maroon')\n",
    "plt.ylabel('Completion Rate')\n",
    "plt.title('Completion Rates for Test and Control Groups')\n",
    "plt.ylim(0, 1)\n",
    "plt.subplots_adjust(left=0.1, right=0.95, top=0.9, bottom=0.1)  # Adjust padding\n",
    "plt.savefig(\"../image/vis3.png\")\n",
    "\n",
    "plt.show()"
   ]
  },
  {
   "cell_type": "markdown",
   "id": "d1aefe96-00bc-4ec8-a07f-9cadba290066",
   "metadata": {},
   "source": [
    "## Completion Rate with a Cost-Effectiveness Threshold"
   ]
  },
  {
   "cell_type": "code",
   "execution_count": 45,
   "id": "08bd8b53-16e9-44de-8f89-e04710025b16",
   "metadata": {},
   "outputs": [
    {
     "name": "stdout",
     "output_type": "stream",
     "text": [
      "The observed increase in completion rate meets or exceeds the 5% threshold. The new design is deemed cost-effective.\n",
      "Completion Rate (Test Group): 69.29%\n",
      "Completion Rate (Control Group): 65.59%\n",
      "Difference in Completion Rates: 3.71%\n",
      "Percentage Increase in Completion Rate: 5.65%\n"
     ]
    }
   ],
   "source": [
    "# Calculate completion rates for Test and Control groups\n",
    "completion_rate_test = completed_test / total_clients_test\n",
    "completion_rate_control = completed_control / total_clients_control\n",
    "\n",
    "# Calculate the difference in completion rates\n",
    "completion_rate_difference = completion_rate_test - completion_rate_control\n",
    "\n",
    "# Calculate the percentage increase in completion rate\n",
    "percentage_increase = completion_rate_difference / completion_rate_control * 100\n",
    "\n",
    "# Check if the percentage increase meets or exceeds the 5% threshold\n",
    "if percentage_increase >= 5:\n",
    "    print(f\"The observed increase in completion rate meets or exceeds the 5% threshold. The new design is deemed cost-effective.\")\n",
    "else:\n",
    "    print(f\"The observed increase in completion rate does not meet the 5% threshold. The new design may not be deemed cost-effective.\")\n",
    "\n",
    "# Display the calculated completion rates, difference, and percentage increase\n",
    "print(f\"Completion Rate (Test Group): {completion_rate_test:.2%}\")\n",
    "print(f\"Completion Rate (Control Group): {completion_rate_control:.2%}\")\n",
    "print(f\"Difference in Completion Rates: {completion_rate_difference:.2%}\")\n",
    "print(f\"Percentage Increase in Completion Rate: {percentage_increase:.2f}%\")\n",
    "\n"
   ]
  },
  {
   "cell_type": "code",
   "execution_count": 48,
   "id": "b56a6ba2-8483-456a-9b04-62da2c724a8d",
   "metadata": {},
   "outputs": [
    {
     "name": "stdout",
     "output_type": "stream",
     "text": [
      "The completion rate for clients aged 50-60 and gender F is 0.84\n",
      "The completion rate for clients aged 50-60 and gender M is 0.87\n"
     ]
    }
   ],
   "source": [
    "\"\"\" given that The average age of the clients is 49.04 years old.\n",
    "The primary clients are older, data showed that The completion rate for clients aged 50-60 and gender F is 0.84\n",
    "The completion rate for clients aged 50-60 and gender M is 0.86, therefore UX/UI should focus on designing towards that demographic\n",
    "\"\"\"\n",
    "# Filter clients between 50 and 60 years old\n",
    "df_profile_filtered = df_profile[(df_profile['clnt_age'] >= 50) & (df_profile['clnt_age'] <= 60)]\n",
    "\n",
    "# Group by gender\n",
    "grouped = df_profile_filtered.groupby('gendr')\n",
    "\n",
    "# Initialize empty dictionary to store completion rates\n",
    "completion_rates = {}\n",
    "\n",
    "# Calculate completion rate for each gender group\n",
    "for name, group in grouped:\n",
    "    total_clients = group['client_id'].nunique()\n",
    "    \n",
    "    completed = df_footprint[(df_footprint['process_step'] == 'confirm') & \n",
    "                             (df_footprint['client_id'].isin(group['client_id']))]\n",
    "    \n",
    "    completion_rate = len(completed) / total_clients\n",
    "    completion_rates[name] = completion_rate\n",
    "\n",
    "# Print completion rates\n",
    "for gender, rate in completion_rates.items():\n",
    "    print(f\"The completion rate for clients aged 50-60 and gender {gender} is {rate:.2f}\")"
   ]
  },
  {
   "cell_type": "code",
   "execution_count": 51,
   "id": "dd4b309a-bd45-4c37-9896-e301020ebd4e",
   "metadata": {},
   "outputs": [
    {
     "name": "stdout",
     "output_type": "stream",
     "text": [
      "Variance of age: 222.02485419757957\n",
      "Standard deviation of age: 14.90049845466854\n",
      "Minimum age: 14.0\n",
      "Maximum age: 96.0\n",
      "Range of age: 82.0\n",
      "Quantiles of age: 0.25    36.5\n",
      "0.50    50.0\n",
      "0.75    60.5\n",
      "Name: clnt_age, dtype: float64\n",
      "Gender: F, Completion Rate:  0.84, Mean Age: 55.04\n",
      "Gender: M, Completion Rate:  0.87, Mean Age: 54.98\n",
      "\n",
      "The highest completion rate is  0.87 for gender M\n",
      "The mean age of clients with the highest completion rate (M) is 54.98\n"
     ]
    }
   ],
   "source": [
    "\n",
    "# Calculate statistics for the entire client age\n",
    "variance_age = df_profile['clnt_age'].var()\n",
    "std_dev_age = df_profile['clnt_age'].std()\n",
    "min_age = df_profile['clnt_age'].min()\n",
    "max_age = df_profile['clnt_age'].max()\n",
    "range_age = max_age - min_age\n",
    "quantiles_age = df_profile['clnt_age'].quantile([0.25, 0.5, 0.75])\n",
    "\n",
    "# Print the calculated statistics\n",
    "print(f\"Variance of age: {variance_age}\")\n",
    "print(f\"Standard deviation of age: {std_dev_age}\")\n",
    "print(f\"Minimum age: {min_age}\")\n",
    "print(f\"Maximum age: {max_age}\")\n",
    "print(f\"Range of age: {range_age}\")\n",
    "print(f\"Quantiles of age: {quantiles_age}\")\n",
    "\n",
    "# Step 1: Filter clients between 50 and 60 years old\n",
    "df_profile_filtered = df_profile[(df_profile['clnt_age'] >= 50) & (df_profile['clnt_age'] <= 60)]\n",
    "\n",
    "# Step 2: Group by gender\n",
    "grouped = df_profile_filtered.groupby('gendr')\n",
    "\n",
    "# Step 3: Initialize empty dictionary to store completion rates and mean ages\n",
    "completion_data = {}\n",
    "\n",
    "# Step 4: Calculate completion rate and mean age for each gender group\n",
    "for name, group in grouped:\n",
    "    total_clients = group['client_id'].nunique()\n",
    "    \n",
    "    completed = df_footprint[(df_footprint['process_step'] == 'confirm') & \n",
    "                             (df_footprint['client_id'].isin(group['client_id']))]\n",
    "    \n",
    "    completion_rate = len(completed) / total_clients\n",
    "    mean_age = group['clnt_age'].mean()\n",
    "    \n",
    "    completion_data[name] = {\n",
    "        'completion_rate': completion_rate,\n",
    "        'mean_age': mean_age\n",
    "    }\n",
    "\n",
    "# Step 5: Find the highest completion rate\n",
    "highest_completion_rate_gender = max(completion_data, key=lambda x: completion_data[x]['completion_rate'])\n",
    "highest_completion_rate = completion_data[highest_completion_rate_gender]['completion_rate']\n",
    "highest_completion_mean_age = completion_data[highest_completion_rate_gender]['mean_age']\n",
    "\n",
    "# Step 6: Sort the completion data by gender\n",
    "sorted_completion_data = dict(sorted(completion_data.items()))\n",
    "\n",
    "# Step 7: Print the sorted completion rates and mean ages by gender\n",
    "for gender, data in sorted_completion_data.items():\n",
    "    print(f\"Gender: {gender}, Completion Rate: {data['completion_rate']: .2f}, Mean Age: {data['mean_age']:.2f}\")\n",
    "\n",
    "# Step 8: Print the highest completion rate and mean age\n",
    "print(f\"\\nThe highest completion rate is {highest_completion_rate: .2f} for gender {highest_completion_rate_gender}\")\n",
    "print(f\"The mean age of clients with the highest completion rate ({highest_completion_rate_gender}) is {highest_completion_mean_age:.2f}\")"
   ]
  },
  {
   "cell_type": "markdown",
   "id": "a28c069e-4ee2-4076-88ec-c28276c06f99",
   "metadata": {},
   "source": [
    "## Other Hypothesis"
   ]
  },
  {
   "cell_type": "markdown",
   "id": "285d91e6-6149-4f27-b44f-b71d4cd46412",
   "metadata": {},
   "source": [
    "## test whether the average age of clients engaging with the new process is the same as those engaging with the old process"
   ]
  },
  {
   "cell_type": "code",
   "execution_count": 53,
   "id": "a026dbbe-822d-4a8a-915f-7c2ba1902f27",
   "metadata": {},
   "outputs": [
    {
     "name": "stdout",
     "output_type": "stream",
     "text": [
      "Reject the null hypothesis. There is a statistically significant difference in the average age between clients engaging with the new and old processes. p-value: 0.02\n"
     ]
    }
   ],
   "source": [
    "from scipy.stats import ttest_ind\n",
    "\n",
    "# Define Test and Control groups based on clients engaging with the new and old processes\n",
    "test_group = df_profile[df_profile['client_id'].isin(df_roster[df_roster['Variation'] == 'Test']['client_id'])]['clnt_age']\n",
    "control_group = df_profile[df_profile['client_id'].isin(df_roster[df_roster['Variation'] == 'Control']['client_id'])]['clnt_age']\n",
    "\n",
    "# Check for and remove any NaN values in age groups (if any)\n",
    "test_group = test_group.dropna()\n",
    "control_group = control_group.dropna()\n",
    "\n",
    "# Ensure both groups are not empty and contain numerical data\n",
    "if test_group.empty or control_group.empty:\n",
    "    print(\"One of the groups is empty. Cannot perform t-test.\")\n",
    "else:\n",
    "    # Perform two-sample t-test\n",
    "    t_statistic, p_value = ttest_ind(test_group, control_group, equal_var=False)\n",
    "\n",
    "    # Set significance level\n",
    "    alpha = 0.05\n",
    "\n",
    "    # Compare p-value to alpha\n",
    "    if p_value < alpha:\n",
    "        print(f\"Reject the null hypothesis. There is a statistically significant difference in the average age between clients engaging with the new and old processes. p-value: {p_value:.2f}\")\n",
    "    else:\n",
    "        print(f\"Fail to reject the null hypothesis. The average age of clients engaging with the new process is not significantly different from those engaging with the old process. p-value: {p_value:.2f}\")"
   ]
  },
  {
   "cell_type": "code",
   "execution_count": 61,
   "id": "c25314ab-a0ef-4ae4-8a35-8261f42590ee",
   "metadata": {},
   "outputs": [
    {
     "data": {
      "text/plain": [
       "[5, 5, 5]"
      ]
     },
     "execution_count": 61,
     "metadata": {},
     "output_type": "execute_result"
    }
   ],
   "source": [
    "[5]*3"
   ]
  },
  {
   "cell_type": "code",
   "execution_count": 66,
   "id": "b3b974db-ab4b-428b-8492-6054f1e0fb89",
   "metadata": {},
   "outputs": [],
   "source": [
    "test_control_df = pd.DataFrame({\"Test\": list(test_group.values), \n",
    "              \"Control\": list(control_group)+[np.nan]*( len(list(test_group.values)) - len(list(control_group)) ) })"
   ]
  },
  {
   "cell_type": "code",
   "execution_count": 75,
   "id": "cbb62621-22b1-41b0-bcbf-ee368d328f62",
   "metadata": {},
   "outputs": [
    {
     "data": {
      "image/png": "[encoded data removed]",
      "text/plain": [
       "<Figure size 800x1200 with 1 Axes>"
      ]
     },
     "metadata": {},
     "output_type": "display_data"
    }
   ],
   "source": [
    "# Create a boxplot for the ages in Test and Control groups\n",
    "plt.figure(figsize=(8, 12))\n",
    "sns.boxplot(data=test_control_df, color='maroon')\n",
    "plt.xticks([0, 1], ['Test Group', 'Control Group'])\n",
    "plt.ylabel('Client Age')\n",
    "plt.title('Age Distribution of Clients in Test and Control Groups')\n",
    "plt.subplots_adjust(left=0.1, right=0.95, top=0.9, bottom=0.1)  # Adjust padding\n",
    "plt.savefig(\"../image/vis4.png\")\n",
    "\n",
    "plt.show()"
   ]
  },
  {
   "cell_type": "markdown",
   "id": "c9b172ed-8817-428d-bcc9-f1c02825614f",
   "metadata": {},
   "source": [
    "## test if the average client tenure (how long they’ve been with Vanguard) of those engaging with the new process is the same as those engaging with the old process"
   ]
  },
  {
   "cell_type": "code",
   "execution_count": 78,
   "id": "f238b920-2c68-4f69-a99b-3c55fb731627",
   "metadata": {},
   "outputs": [
    {
     "name": "stdout",
     "output_type": "stream",
     "text": [
      "T-statistic: -1.52, P-value:  0.13\n",
      "There is no significant difference in average client tenure between Test and Control groups.\n"
     ]
    }
   ],
   "source": [
    "# Merge df_profile with df_roster to get the Variation information\n",
    "df_merged = df_profile.merge(df_roster, on='client_id', how='left')\n",
    "\n",
    "# Exclude NaN values\n",
    "df_merged = df_merged.dropna(subset=['clnt_tenure_yr'])\n",
    "\n",
    "# Separate the tenures into Test and Control groups\n",
    "test_group_tenure = df_merged[df_merged['Variation'] == 'Test']['clnt_tenure_yr']\n",
    "control_group_tenure = df_merged[df_merged['Variation'] == 'Control']['clnt_tenure_yr']\n",
    "\n",
    "# Perform an independent t-test\n",
    "t_stat, p_value = ttest_ind(test_group_tenure, control_group_tenure)\n",
    "\n",
    "# Display the results\n",
    "print(f\"T-statistic: {t_stat: .2f}, P-value: {p_value: .2f}\") \n",
    "\n",
    "if p_value < 0.05:\n",
    "    print(\"There is a significant difference in average client tenure between Test and Control groups.\")\n",
    "else:\n",
    "    print(\"There is no significant difference in average client tenure between Test and Control groups.\")"
   ]
  },
  {
   "cell_type": "code",
   "execution_count": 80,
   "id": "d655f604-b3e7-4a65-b107-e0f6037a985d",
   "metadata": {},
   "outputs": [
    {
     "name": "stdout",
     "output_type": "stream",
     "text": [
      "Average client tenure for Test group:  14.77\n",
      "Average client tenure for Control group:  14.87\n",
      "T-statistic: -1.52, P-value:  0.13\n",
      "There is no significant difference in average client tenure between Test and Control groups.\n"
     ]
    }
   ],
   "source": [
    "# Merge df_profile with df_roster to get the Variation information\n",
    "df_merged = df_profile.merge(df_roster, on='client_id', how='left')\n",
    "\n",
    "# Exclude NaN values\n",
    "df_merged = df_merged.dropna(subset=['clnt_tenure_yr'])\n",
    "\n",
    "# Separate the tenures into Test and Control groups\n",
    "test_group_tenure = df_merged[df_merged['Variation'] == 'Test']['clnt_tenure_yr']\n",
    "control_group_tenure = df_merged[df_merged['Variation'] == 'Control']['clnt_tenure_yr']\n",
    "\n",
    "# Calculate average client tenure for Test and Control groups\n",
    "average_tenure_test = test_group_tenure.mean()\n",
    "average_tenure_control = control_group_tenure.mean()\n",
    "\n",
    "# Perform an independent t-test\n",
    "t_stat, p_value = ttest_ind(test_group_tenure, control_group_tenure)\n",
    "\n",
    "# Display the results\n",
    "print(f\"Average client tenure for Test group: {average_tenure_test: .2f}\")\n",
    "print(f\"Average client tenure for Control group: {average_tenure_control: .2f}\")\n",
    "print(f\"T-statistic: {t_stat: .2f}, P-value: {p_value: .2f}\")\n",
    "\n",
    "if p_value < 0.05:\n",
    "    print(\"There is a significant difference in average client tenure between Test and Control groups.\")\n",
    "else:\n",
    "    print(\"There is no significant difference in average client tenure between Test and Control groups.\")"
   ]
  },
  {
   "cell_type": "code",
   "execution_count": null,
   "id": "88473e9f-9eaa-4c0d-b698-626d7e352e9d",
   "metadata": {},
   "outputs": [],
   "source": []
  },
  {
   "cell_type": "code",
   "execution_count": null,
   "id": "14998983-b8e1-49ea-bcdd-7dd85cf54125",
   "metadata": {},
   "outputs": [],
   "source": []
  },
  {
   "cell_type": "code",
   "execution_count": 71,
   "id": "0ba373cf-6e10-4d72-ba1d-49a5fabd05e5",
   "metadata": {},
   "outputs": [],
   "source": [
    "df_profile.to_csv(\"../data/profile.csv\", index=False, encoding='utf-8')\n",
    "df_roster.to_csv(\"../data/roster.csv\", index=False, encoding='utf-8')\n",
    "df_footprint.to_csv(\"../data/footprint.csv\", index=False, encoding='utf-8')"
   ]
  },
  {
   "cell_type": "code",
   "execution_count": null,
   "id": "a9e26748-c6c5-4708-b326-d751bb1826bb",
   "metadata": {},
   "outputs": [],
   "source": []
  },
  {
   "cell_type": "code",
   "execution_count": null,
   "id": "594d66a1-c281-4cea-b6ee-9da97993b277",
   "metadata": {},
   "outputs": [],
   "source": []
  },
  {
   "cell_type": "code",
   "execution_count": null,
   "id": "b3ee3e2e-227d-4791-b4c3-ccddc7dbc6e2",
   "metadata": {},
   "outputs": [],
   "source": []
  },
  {
   "cell_type": "code",
   "execution_count": null,
   "id": "9c0e1087-64a7-4297-9eb9-309a5431de58",
   "metadata": {},
   "outputs": [],
   "source": []
  },
  {
   "cell_type": "code",
   "execution_count": null,
   "id": "9bae130a-967d-485a-a4c6-f478c001bf5f",
   "metadata": {},
   "outputs": [],
   "source": []
  },
  {
   "cell_type": "code",
   "execution_count": null,
   "id": "59f443e6-39aa-4b88-8744-60edcacb05c8",
   "metadata": {},
   "outputs": [],
   "source": []
  },
  {
   "cell_type": "code",
   "execution_count": null,
   "id": "c174db9a-d92a-4c65-8be9-f4baa023a00c",
   "metadata": {},
   "outputs": [],
   "source": []
  }
 ],
 "metadata": {
  "kernelspec": {
   "display_name": "m2_venv",
   "language": "python",
   "name": "m2_venv"
  },
  "language_info": {
   "codemirror_mode": {
    "name": "ipython",
    "version": 3
   },
   "file_extension": ".py",
   "mimetype": "text/x-python",
   "name": "python",
   "nbconvert_exporter": "python",
   "pygments_lexer": "ipython3",
   "version": "3.11.7"
  }
 },
 "nbformat": 4,
 "nbformat_minor": 5
}
