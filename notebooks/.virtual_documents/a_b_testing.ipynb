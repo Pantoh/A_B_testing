import pandas as pd
import matplotlib.pyplot as plt
import seaborn as sns
import numpy as np

%matplotlib inline


df_profile = pd.read_csv("C:/Users/Meli/Desktop/Ironhack/Lab1/week5_project/data/df_final_demo.txt")
df_profile


df_profile.dtypes


df_profile.columns


df_profile["clnt_tenure_yr"].fillna(0).astype(float)
df_profile["clnt_tenure_mnth"].fillna(0).astype(float)
df_profile["clnt_age"].fillna(0).astype(float)
df_profile["num_accts"].fillna(0).astype(float)
df_profile["bal"].fillna(0).astype(float)
df_profile["calls_6_mnth"].fillna(0).astype(float)
df_profile["logons_6_mnth"].fillna(0).astype(float)
df_profile["client_id"].fillna(0).astype(int)
df_profile["gendr"].fillna("Unknown").astype(str)


## this is the only dataset with null values
df_profile.isnull().sum().sort_values(ascending=False)


df_roster = pd.read_csv("C:/Users/Meli/Desktop/Ironhack/Lab1/week5_project/data/df_final_experiment_clients.txt")
df_roster


df_roster.dtypes


df_roster.columns


df_roster.isnull().sum().sort_values(ascending=False)


df_web1 = pd.read_csv("C:/Users/Meli/Desktop/Ironhack/Lab1/week5_project/data/df_final_web_data_pt_1.txt")
df_web1.head(5)


df_web1.dtypes


df_web1.columns


df_web2.columns


df_web2 = pd.read_csv("C:/Users/Meli/Desktop/Ironhack/Lab1/week5_project/data/df_final_web_data_pt_2.txt")
df_web2.head(5)


df_web2.dtypes


df_footprint = pd.concat([df_web1, df_web2])
df_footprint


df_footprint.isnull().sum().sort_values(ascending=False)





mean_age = df_profile['clnt_age'].mean()
median_age = df_profile['clnt_age'].median()
mode_age = df_profile['clnt_age'].mode()[0]

mean_age.round(), median_age, mode_age


variance_age = df_profile['clnt_age'].var()
std_dev_age = df_profile['clnt_age'].std()
min_age = df_profile['clnt_age'].min()
max_age = df_profile['clnt_age'].max()
range_age = max_price - min_price
quantiles_age = df_profile['clnt_age'].quantile([0.25, 0.5, 0.75])

variance_age , std_dev_age , min_age , max_age , range_age , quantiles_age 


# Frequency table for 'category'
frequency_table = df_profile["clnt_age"].value_counts()
frequency_table



# Calculating the proportion of each unique value in the 'category'
proportion_table = df_profile["clnt_age"].value_counts(normalize=True)
proportion_table


frequency_table = df_profile["gendr"].value_counts()
frequency_table


proportion_table = df_profile["gendr"].value_counts(normalize=True)
proportion_table





# Count the number of men and women
gender_counts = df_profile['gendr'].value_counts()
print(f"Gender counts:\n{gender_counts}")

# Check if there are more men or women
if gender_counts['M'] > gender_counts['F']:
    print("There are more men.")
elif gender_counts['M'] < gender_counts['F']:
    print("There are more women.")
else:
    print("The number of men and women is the same.")

# Calculate the average age
average_age = df_profile['clnt_age'].mean()
print(f"The average age of the clients is {average_age} years.")

# Check if the primary clients are younger or older
if average_age < df_profile['clnt_age'].max()/2:
    print("The primary clients are younger.")
else:
    print("The primary clients are older.")

# Calculate the average tenure in months
average_tenure = df_profile['clnt_tenure_yr']*12 + df_profile['clnt_tenure_mnth']
print(f"The average tenure of the clients is {average_tenure.mean()} months.")

# Check if the primary clients are new or long-standing
if average_tenure.mean() < df_profile['clnt_tenure_yr'].max()*12/2:
    print("The primary clients are new.")
else:
    print("The primary clients are long-standing.")


























































































